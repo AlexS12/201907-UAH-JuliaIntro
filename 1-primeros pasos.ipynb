{
 "cells": [
  {
   "cell_type": "markdown",
   "metadata": {},
   "source": [
    "# Primeros pasos "
   ]
  },
  {
   "cell_type": "markdown",
   "metadata": {},
   "source": [
    "## Strings "
   ]
  },
  {
   "cell_type": "code",
   "execution_count": 1,
   "metadata": {},
   "outputs": [
    {
     "data": {
      "text/plain": [
       "\"Esto es un string\""
      ]
     },
     "execution_count": 1,
     "metadata": {},
     "output_type": "execute_result"
    }
   ],
   "source": [
    "# string1\n",
    "string1 = \"Esto es un string\""
   ]
  },
  {
   "cell_type": "code",
   "execution_count": 2,
   "metadata": {},
   "outputs": [
    {
     "data": {
      "text/plain": [
       "\"Esto es otro\\nstring\""
      ]
     },
     "execution_count": 2,
     "metadata": {},
     "output_type": "execute_result"
    }
   ],
   "source": [
    "# string2\n",
    "string2 = \"\"\"Esto es otro\n",
    "string\"\"\""
   ]
  },
  {
   "cell_type": "code",
   "execution_count": 3,
   "metadata": {},
   "outputs": [
    {
     "name": "stdout",
     "output_type": "stream",
     "text": [
      "Esto es otro\n",
      "string"
     ]
    }
   ],
   "source": [
    "print(string2)"
   ]
  },
  {
   "cell_type": "code",
   "execution_count": 4,
   "metadata": {},
   "outputs": [
    {
     "data": {
      "text/plain": [
       "\"En estos strings se pueden poner \\\" sin error\""
      ]
     },
     "execution_count": 4,
     "metadata": {},
     "output_type": "execute_result"
    }
   ],
   "source": [
    "# string3\n",
    "string3 = \"\"\"En estos strings se pueden poner \" sin error\"\"\""
   ]
  },
  {
   "cell_type": "code",
   "execution_count": 5,
   "metadata": {},
   "outputs": [
    {
     "name": "stdout",
     "output_type": "stream",
     "text": [
      "En estos strings se pueden poner \" sin error"
     ]
    }
   ],
   "source": [
    "print(string3)"
   ]
  },
  {
   "cell_type": "markdown",
   "metadata": {},
   "source": [
    "#### Asignación de variables "
   ]
  },
  {
   "cell_type": "markdown",
   "metadata": {},
   "source": [
    "Las variables seasignan con el operador `=`. Por defecto, __en la consola o el notebook__, la asignación se imprime por pantalla si es la última entrada de la celda"
   ]
  },
  {
   "cell_type": "code",
   "execution_count": 6,
   "metadata": {},
   "outputs": [
    {
     "data": {
      "text/plain": [
       "52"
      ]
     },
     "execution_count": 6,
     "metadata": {},
     "output_type": "execute_result"
    }
   ],
   "source": [
    "a = 27\n",
    "b = 52"
   ]
  },
  {
   "cell_type": "markdown",
   "metadata": {},
   "source": [
    "Esto no ocurre en los scripts. Para evitar que se imprimam por pantalla, basta con utilizar `;`"
   ]
  },
  {
   "cell_type": "code",
   "execution_count": 7,
   "metadata": {},
   "outputs": [],
   "source": [
    "a = 55;"
   ]
  },
  {
   "cell_type": "markdown",
   "metadata": {},
   "source": [
    "### Concatenación "
   ]
  },
  {
   "cell_type": "markdown",
   "metadata": {},
   "source": [
    "En julia los string se concatenan con `*`"
   ]
  },
  {
   "cell_type": "code",
   "execution_count": 8,
   "metadata": {},
   "outputs": [
    {
     "data": {
      "text/plain": [
       "\"Esto es un stringEsto es un string\""
      ]
     },
     "execution_count": 8,
     "metadata": {},
     "output_type": "execute_result"
    }
   ],
   "source": [
    "string1 * string1"
   ]
  },
  {
   "cell_type": "markdown",
   "metadata": {},
   "source": [
    "> While * may seem like a surprising choice to users of languages that provide + for string concatenation, this use of * has precedent in mathematics, particularly in abstract algebra.\n",
    "In mathematics, + usually denotes a commutative operation, where the order of the operands does not matter. An example of this is matrix addition, where A + B == B + A for any matrices A and B that have the same shape. In contrast, * typically denotes a noncommutative operation, where the order of the operands does matter. An example of this is matrix multiplication, where in general A * B != B * A. As with matrix multiplication, string concatenation is noncommutative: greet * whom != whom * greet. As such, * is a more natural choice for an infix string concatenation operator, consistent with common mathematical use.\n",
    "\n",
    "https://pkg.julialang.org/docs/julia/THl1k/1.1.1/manual/strings.html#man-concatenation-1"
   ]
  },
  {
   "cell_type": "markdown",
   "metadata": {},
   "source": [
    "En consecuancia con lo anterior, la repetición del string se realiza con `^`"
   ]
  },
  {
   "cell_type": "code",
   "execution_count": 9,
   "metadata": {},
   "outputs": [
    {
     "data": {
      "text/plain": [
       "\"Esto es un stringEsto es un stringEsto es un stringEsto es un stringEsto es un string\""
      ]
     },
     "execution_count": 9,
     "metadata": {},
     "output_type": "execute_result"
    }
   ],
   "source": [
    "string1 ^5"
   ]
  },
  {
   "cell_type": "markdown",
   "metadata": {},
   "source": [
    "### Interpolación "
   ]
  },
  {
   "cell_type": "code",
   "execution_count": 10,
   "metadata": {},
   "outputs": [
    {
     "name": "stdout",
     "output_type": "stream",
     "text": [
      "Hola Alex, encantado de conocerte"
     ]
    }
   ],
   "source": [
    "nombre = \"Alex\"\n",
    "print(\"Hola $(nombre), encantado de conocerte\")"
   ]
  },
  {
   "cell_type": "markdown",
   "metadata": {},
   "source": [
    "## Tipos numéricos"
   ]
  },
  {
   "cell_type": "markdown",
   "metadata": {},
   "source": [
    "### Operaciones"
   ]
  },
  {
   "cell_type": "code",
   "execution_count": 11,
   "metadata": {},
   "outputs": [
    {
     "data": {
      "text/plain": [
       "7.111111111111111"
      ]
     },
     "execution_count": 11,
     "metadata": {},
     "output_type": "execute_result"
    }
   ],
   "source": [
    "# Operaciones\n",
    "2 * 4 - (7 + 1) / 3^2  "
   ]
  },
  {
   "cell_type": "code",
   "execution_count": 12,
   "metadata": {},
   "outputs": [
    {
     "data": {
      "text/plain": [
       "2.3333333333333335"
      ]
     },
     "execution_count": 12,
     "metadata": {},
     "output_type": "execute_result"
    }
   ],
   "source": [
    "# División es real\n",
    "7 / 3"
   ]
  },
  {
   "cell_type": "code",
   "execution_count": 13,
   "metadata": {},
   "outputs": [
    {
     "data": {
      "text/plain": [
       "0 + 1im"
      ]
     },
     "execution_count": 13,
     "metadata": {},
     "output_type": "execute_result"
    }
   ],
   "source": [
    "# Números complejos\n",
    "1im"
   ]
  },
  {
   "cell_type": "code",
   "execution_count": 14,
   "metadata": {},
   "outputs": [
    {
     "data": {
      "text/plain": [
       "7//3"
      ]
     },
     "execution_count": 14,
     "metadata": {},
     "output_type": "execute_result"
    }
   ],
   "source": [
    "# División entera ¿¿??\n",
    "7 // 3"
   ]
  },
  {
   "cell_type": "code",
   "execution_count": 15,
   "metadata": {},
   "outputs": [
    {
     "data": {
      "text/plain": [
       "2"
      ]
     },
     "execution_count": 15,
     "metadata": {},
     "output_type": "execute_result"
    }
   ],
   "source": [
    "# División entera\n",
    "div(7, 3)"
   ]
  },
  {
   "cell_type": "markdown",
   "metadata": {},
   "source": [
    "#### Pidiendo ayuda"
   ]
  },
  {
   "cell_type": "markdown",
   "metadata": {},
   "source": [
    "Veamos qué hace la función div:"
   ]
  },
  {
   "cell_type": "code",
   "execution_count": 16,
   "metadata": {},
   "outputs": [
    {
     "name": "stdout",
     "output_type": "stream",
     "text": [
      "search: \u001b[0m\u001b[1md\u001b[22m\u001b[0m\u001b[1mi\u001b[22m\u001b[0m\u001b[1mv\u001b[22m \u001b[0m\u001b[1md\u001b[22m\u001b[0m\u001b[1mi\u001b[22m\u001b[0m\u001b[1mv\u001b[22mrem \u001b[0m\u001b[1mD\u001b[22m\u001b[0m\u001b[1mi\u001b[22m\u001b[0m\u001b[1mv\u001b[22mideError split\u001b[0m\u001b[1md\u001b[22mr\u001b[0m\u001b[1mi\u001b[22m\u001b[0m\u001b[1mv\u001b[22me co\u001b[0m\u001b[1md\u001b[22me_nat\u001b[0m\u001b[1mi\u001b[22m\u001b[0m\u001b[1mv\u001b[22me @co\u001b[0m\u001b[1md\u001b[22me_nat\u001b[0m\u001b[1mi\u001b[22m\u001b[0m\u001b[1mv\u001b[22me\n",
      "\n"
     ]
    },
    {
     "data": {
      "text/latex": [
       "\\begin{verbatim}\n",
       "div(x, y)\n",
       "÷(x, y)\n",
       "\\end{verbatim}\n",
       "The quotient from Euclidean division. Computes \\texttt{x/y}, truncated to an integer.\n",
       "\n",
       "\\section{Examples}\n",
       "\\begin{verbatim}\n",
       "julia> 9 ÷ 4\n",
       "2\n",
       "\n",
       "julia> -5 ÷ 3\n",
       "-1\n",
       "\\end{verbatim}\n"
      ],
      "text/markdown": [
       "```\n",
       "div(x, y)\n",
       "÷(x, y)\n",
       "```\n",
       "\n",
       "The quotient from Euclidean division. Computes `x/y`, truncated to an integer.\n",
       "\n",
       "# Examples\n",
       "\n",
       "```jldoctest\n",
       "julia> 9 ÷ 4\n",
       "2\n",
       "\n",
       "julia> -5 ÷ 3\n",
       "-1\n",
       "```\n"
      ],
      "text/plain": [
       "\u001b[36m  div(x, y)\u001b[39m\n",
       "\u001b[36m  ÷(x, y)\u001b[39m\n",
       "\n",
       "  The quotient from Euclidean division. Computes \u001b[36mx/y\u001b[39m, truncated to an integer.\n",
       "\n",
       "\u001b[1m  Examples\u001b[22m\n",
       "\u001b[1m  ≡≡≡≡≡≡≡≡≡≡\u001b[22m\n",
       "\n",
       "\u001b[36m  julia> 9 ÷ 4\u001b[39m\n",
       "\u001b[36m  2\u001b[39m\n",
       "\u001b[36m  \u001b[39m\n",
       "\u001b[36m  julia> -5 ÷ 3\u001b[39m\n",
       "\u001b[36m  -1\u001b[39m"
      ]
     },
     "execution_count": 16,
     "metadata": {},
     "output_type": "execute_result"
    }
   ],
   "source": [
    "?div"
   ]
  },
  {
   "cell_type": "code",
   "execution_count": 17,
   "metadata": {},
   "outputs": [
    {
     "data": {
      "text/plain": [
       "2"
      ]
     },
     "execution_count": 17,
     "metadata": {},
     "output_type": "execute_result"
    }
   ],
   "source": [
    "7 ÷ 3"
   ]
  },
  {
   "cell_type": "markdown",
   "metadata": {},
   "source": [
    "#### Usando caracteres especiales "
   ]
  },
  {
   "cell_type": "markdown",
   "metadata": {},
   "source": [
    "Todo está codificado en utf8, por lo que podemos usar (y su uso está extendido) diferentes símbolos:"
   ]
  },
  {
   "cell_type": "code",
   "execution_count": 18,
   "metadata": {},
   "outputs": [
    {
     "data": {
      "text/plain": [
       "\"rocket\""
      ]
     },
     "execution_count": 18,
     "metadata": {},
     "output_type": "execute_result"
    }
   ],
   "source": [
    "α = 0.1\n",
    "β = 0.6\n",
    "\n",
    "🚀 = \"rocket\""
   ]
  },
  {
   "cell_type": "markdown",
   "metadata": {},
   "source": [
    "#### Obteniendo el tipo "
   ]
  },
  {
   "cell_type": "code",
   "execution_count": 19,
   "metadata": {},
   "outputs": [
    {
     "data": {
      "text/plain": [
       "Rational{Int64}"
      ]
     },
     "execution_count": 19,
     "metadata": {},
     "output_type": "execute_result"
    }
   ],
   "source": [
    "# entonces, ¿qué es `7//3`?\n",
    "typeof(7//3)"
   ]
  },
  {
   "cell_type": "markdown",
   "metadata": {},
   "source": [
    "#### Métodos para un tipo "
   ]
  },
  {
   "cell_type": "code",
   "execution_count": 20,
   "metadata": {},
   "outputs": [
    {
     "data": {
      "text/html": [
       "71-element Array{Method,1}:<ul><li> rem(x::<b>Rational</b>, y::<b>Rational</b>) in Base at <a href=\"https://github.com/JuliaLang/julia/tree/v1.1.1/base/rational.jl#L252\" target=\"_blank\">rational.jl:252</a><li> *(x::<b>Rational</b>, y::<b>Rational</b>) in Base at <a href=\"https://github.com/JuliaLang/julia/tree/v1.1.1/base/rational.jl#L259\" target=\"_blank\">rational.jl:259</a><li> +(x::<b>Rational</b>, y::<b>Rational</b>) in Base at <a href=\"https://github.com/JuliaLang/julia/tree/v1.1.1/base/rational.jl#L252\" target=\"_blank\">rational.jl:252</a><li> -(x::<b>Rational</b>) in Base at <a href=\"https://github.com/JuliaLang/julia/tree/v1.1.1/base/rational.jl#L238\" target=\"_blank\">rational.jl:238</a><li> -(x::<b>Rational</b>, y::<b>Rational</b>) in Base at <a href=\"https://github.com/JuliaLang/julia/tree/v1.1.1/base/rational.jl#L252\" target=\"_blank\">rational.jl:252</a><li> /(x::<b>Rational</b>, y::<b>Complex{#s72} where #s72<:Union{Integer, Rational}</b>) in Base at <a href=\"https://github.com/JuliaLang/julia/tree/v1.1.1/base/rational.jl#L264\" target=\"_blank\">rational.jl:264</a><li> /(x::<b>Rational</b>, y::<b>Rational</b>) in Base at <a href=\"https://github.com/JuliaLang/julia/tree/v1.1.1/base/rational.jl#L263\" target=\"_blank\">rational.jl:263</a><li> //(x::<b>Rational</b>, y::<b>Integer</b>) in Base at <a href=\"https://github.com/JuliaLang/julia/tree/v1.1.1/base/rational.jl#L46\" target=\"_blank\">rational.jl:46</a><li> //(x::<b>Integer</b>, y::<b>Rational</b>) in Base at <a href=\"https://github.com/JuliaLang/julia/tree/v1.1.1/base/rational.jl#L50\" target=\"_blank\">rational.jl:50</a><li> //(x::<b>Rational</b>, y::<b>Rational</b>) in Base at <a href=\"https://github.com/JuliaLang/julia/tree/v1.1.1/base/rational.jl#L54\" target=\"_blank\">rational.jl:54</a><li> <(x::<b>Rational</b>, y::<b>Rational</b>) in Base at <a href=\"https://github.com/JuliaLang/julia/tree/v1.1.1/base/rational.jl#L270\" target=\"_blank\">rational.jl:270</a><li> <(x::<b>Rational</b>, y::<b>Integer</b>) in Base at <a href=\"https://github.com/JuliaLang/julia/tree/v1.1.1/base/rational.jl#L278\" target=\"_blank\">rational.jl:278</a><li> <(x::<b>Integer</b>, y::<b>Rational</b>) in Base at <a href=\"https://github.com/JuliaLang/julia/tree/v1.1.1/base/rational.jl#L279\" target=\"_blank\">rational.jl:279</a><li> <(x::<b>Rational</b>, y::<b>AbstractFloat</b>) in Base at <a href=\"https://github.com/JuliaLang/julia/tree/v1.1.1/base/rational.jl#L296\" target=\"_blank\">rational.jl:296</a><li> <(x::<b>AbstractFloat</b>, y::<b>Rational</b>) in Base at <a href=\"https://github.com/JuliaLang/julia/tree/v1.1.1/base/rational.jl#L296\" target=\"_blank\">rational.jl:296</a><li> <=(x::<b>Rational</b>, y::<b>Rational</b>) in Base at <a href=\"https://github.com/JuliaLang/julia/tree/v1.1.1/base/rational.jl#L272\" target=\"_blank\">rational.jl:272</a><li> <=(x::<b>Rational</b>, y::<b>Integer</b>) in Base at <a href=\"https://github.com/JuliaLang/julia/tree/v1.1.1/base/rational.jl#L280\" target=\"_blank\">rational.jl:280</a><li> <=(x::<b>Integer</b>, y::<b>Rational</b>) in Base at <a href=\"https://github.com/JuliaLang/julia/tree/v1.1.1/base/rational.jl#L281\" target=\"_blank\">rational.jl:281</a><li> <=(x::<b>Rational</b>, y::<b>AbstractFloat</b>) in Base at <a href=\"https://github.com/JuliaLang/julia/tree/v1.1.1/base/rational.jl#L296\" target=\"_blank\">rational.jl:296</a><li> <=(x::<b>AbstractFloat</b>, y::<b>Rational</b>) in Base at <a href=\"https://github.com/JuliaLang/julia/tree/v1.1.1/base/rational.jl#L296\" target=\"_blank\">rational.jl:296</a><li> <=(x::<b>AbstractIrrational</b>, y::<b>Rational</b>) in Base at <a href=\"https://github.com/JuliaLang/julia/tree/v1.1.1/base/irrationals.jl#L119\" target=\"_blank\">irrationals.jl:119</a><li> <=(x::<b>Rational</b>, y::<b>AbstractIrrational</b>) in Base at <a href=\"https://github.com/JuliaLang/julia/tree/v1.1.1/base/irrationals.jl#L120\" target=\"_blank\">irrationals.jl:120</a><li> ==(z::<b>Complex</b>, x::<b>Rational</b>) in Base at <a href=\"https://github.com/JuliaLang/julia/tree/v1.1.1/base/rational.jl#L345\" target=\"_blank\">rational.jl:345</a><li> ==(x::<b>Rational</b>, z::<b>Complex</b>) in Base at <a href=\"https://github.com/JuliaLang/julia/tree/v1.1.1/base/rational.jl#L346\" target=\"_blank\">rational.jl:346</a><li> ==(x::<b>Rational</b>, y::<b>Rational</b>) in Base at <a href=\"https://github.com/JuliaLang/julia/tree/v1.1.1/base/rational.jl#L269\" target=\"_blank\">rational.jl:269</a><li> ==(x::<b>Rational</b>, y::<b>Integer</b>) in Base at <a href=\"https://github.com/JuliaLang/julia/tree/v1.1.1/base/rational.jl#L276\" target=\"_blank\">rational.jl:276</a><li> ==(x::<b>Integer</b>, y::<b>Rational</b>) in Base at <a href=\"https://github.com/JuliaLang/julia/tree/v1.1.1/base/rational.jl#L277\" target=\"_blank\">rational.jl:277</a><li> ==(x::<b>AbstractFloat</b>, q::<b>Rational</b>) in Base at <a href=\"https://github.com/JuliaLang/julia/tree/v1.1.1/base/rational.jl#L284\" target=\"_blank\">rational.jl:284</a><li> ==(q::<b>Rational</b>, x::<b>AbstractFloat</b>) in Base at <a href=\"https://github.com/JuliaLang/julia/tree/v1.1.1/base/rational.jl#L291\" target=\"_blank\">rational.jl:291</a><li> ^(::<b>Irrational{:ℯ}</b>, x::<b>Rational</b>) in Base.MathConstants at <a href=\"https://github.com/JuliaLang/julia/tree/v1.1.1/base/mathconstants.jl#L91\" target=\"_blank\">mathconstants.jl:91</a><li> ^<i>{T<:Real}</i>(z::<b>Complex{T}</b>, p::<b>Rational</b>) in Base at <a href=\"https://github.com/JuliaLang/julia/tree/v1.1.1/base/rational.jl#L438\" target=\"_blank\">rational.jl:438</a><li> ^(x::<b>Rational</b>, n::<b>Integer</b>) in Base at <a href=\"https://github.com/JuliaLang/julia/tree/v1.1.1/base/rational.jl#L433\" target=\"_blank\">rational.jl:433</a><li> ^<i>{T<:AbstractFloat}</i>(x::<b>T</b>, y::<b>Rational</b>) in Base at <a href=\"https://github.com/JuliaLang/julia/tree/v1.1.1/base/rational.jl#L437\" target=\"_blank\">rational.jl:437</a><li> ^(x::<b>Number</b>, y::<b>Rational</b>) in Base at <a href=\"https://github.com/JuliaLang/julia/tree/v1.1.1/base/rational.jl#L436\" target=\"_blank\">rational.jl:436</a><li> abs(x::<b>Rational</b>) in Base at <a href=\"https://github.com/JuliaLang/julia/tree/v1.1.1/base/rational.jl#L231\" target=\"_blank\">rational.jl:231</a><li> big(q::<b>Rational</b>) in Base at <a href=\"https://github.com/JuliaLang/julia/tree/v1.1.1/base/sysimg.jl#L407\" target=\"_blank\">sysimg.jl:407</a><li> ceil<i>{T>:Missing}</i>(::<b>Type{T}</b>, x::<b>Rational</b>) in Base at <a href=\"https://github.com/JuliaLang/julia/tree/v1.1.1/base/missing.jl#L118\" target=\"_blank\">missing.jl:118</a><li> ceil<i>{T}</i>(::<b>Type{T}</b>, x::<b>Rational</b>) in Base at <a href=\"https://github.com/JuliaLang/julia/tree/v1.1.1/base/rational.jl#L368\" target=\"_blank\">rational.jl:368</a><li> cld(x::<b>Rational</b>, y::<b>Integer</b>) in Base at <a href=\"https://github.com/JuliaLang/julia/tree/v1.1.1/base/rational.jl#L351\" target=\"_blank\">rational.jl:351</a><li> cld(x::<b>Integer</b>, y::<b>Rational</b>) in Base at <a href=\"https://github.com/JuliaLang/julia/tree/v1.1.1/base/rational.jl#L355\" target=\"_blank\">rational.jl:355</a><li> cld(x::<b>Rational</b>, y::<b>Rational</b>) in Base at <a href=\"https://github.com/JuliaLang/julia/tree/v1.1.1/base/rational.jl#L359\" target=\"_blank\">rational.jl:359</a><li> cmp(x::<b>Rational</b>, y::<b>AbstractFloat</b>) in Base at <a href=\"https://github.com/JuliaLang/julia/tree/v1.1.1/base/rational.jl#L296\" target=\"_blank\">rational.jl:296</a><li> cmp(x::<b>AbstractFloat</b>, y::<b>Rational</b>) in Base at <a href=\"https://github.com/JuliaLang/julia/tree/v1.1.1/base/rational.jl#L296\" target=\"_blank\">rational.jl:296</a><li> copysign(x::<b>Rational</b>, y::<b>Rational</b>) in Base at <a href=\"https://github.com/JuliaLang/julia/tree/v1.1.1/base/rational.jl#L229\" target=\"_blank\">rational.jl:229</a><li> copysign(x::<b>Rational</b>, ::<b>Unsigned</b>) in Base at <a href=\"https://github.com/JuliaLang/julia/tree/v1.1.1/base/sysimg.jl#L400\" target=\"_blank\">sysimg.jl:400</a><li> copysign(x::<b>Rational</b>, y::<b>Real</b>) in Base at <a href=\"https://github.com/JuliaLang/julia/tree/v1.1.1/base/rational.jl#L228\" target=\"_blank\">rational.jl:228</a><li> denominator(x::<b>Rational</b>) in Base at <a href=\"https://github.com/JuliaLang/julia/tree/v1.1.1/base/rational.jl#L224\" target=\"_blank\">rational.jl:224</a><li> div(x::<b>Rational</b>, y::<b>Integer</b>) in Base at <a href=\"https://github.com/JuliaLang/julia/tree/v1.1.1/base/rational.jl#L351\" target=\"_blank\">rational.jl:351</a><li> div(x::<b>Integer</b>, y::<b>Rational</b>) in Base at <a href=\"https://github.com/JuliaLang/julia/tree/v1.1.1/base/rational.jl#L355\" target=\"_blank\">rational.jl:355</a><li> div(x::<b>Rational</b>, y::<b>Rational</b>) in Base at <a href=\"https://github.com/JuliaLang/julia/tree/v1.1.1/base/rational.jl#L359\" target=\"_blank\">rational.jl:359</a><li> fld(x::<b>Rational</b>, y::<b>Integer</b>) in Base at <a href=\"https://github.com/JuliaLang/julia/tree/v1.1.1/base/rational.jl#L351\" target=\"_blank\">rational.jl:351</a><li> fld(x::<b>Integer</b>, y::<b>Rational</b>) in Base at <a href=\"https://github.com/JuliaLang/julia/tree/v1.1.1/base/rational.jl#L355\" target=\"_blank\">rational.jl:355</a><li> fld(x::<b>Rational</b>, y::<b>Rational</b>) in Base at <a href=\"https://github.com/JuliaLang/julia/tree/v1.1.1/base/rational.jl#L359\" target=\"_blank\">rational.jl:359</a><li> flipsign(x::<b>Rational</b>, ::<b>Unsigned</b>) in Base at <a href=\"https://github.com/JuliaLang/julia/tree/v1.1.1/base/sysimg.jl#L399\" target=\"_blank\">sysimg.jl:399</a><li> floor<i>{T>:Missing}</i>(::<b>Type{T}</b>, x::<b>Rational</b>) in Base at <a href=\"https://github.com/JuliaLang/julia/tree/v1.1.1/base/missing.jl#L118\" target=\"_blank\">missing.jl:118</a><li> floor<i>{T}</i>(::<b>Type{T}</b>, x::<b>Rational</b>) in Base at <a href=\"https://github.com/JuliaLang/julia/tree/v1.1.1/base/rational.jl#L367\" target=\"_blank\">rational.jl:367</a><li> fma(x::<b>Rational</b>, y::<b>Rational</b>, z::<b>Rational</b>) in Base at <a href=\"https://github.com/JuliaLang/julia/tree/v1.1.1/base/rational.jl#L267\" target=\"_blank\">rational.jl:267</a><li> inv(x::<b>Rational</b>) in Base at <a href=\"https://github.com/JuliaLang/julia/tree/v1.1.1/base/rational.jl#L265\" target=\"_blank\">rational.jl:265</a><li> isinteger(x::<b>Rational</b>) in Base at <a href=\"https://github.com/JuliaLang/julia/tree/v1.1.1/base/rational.jl#L236\" target=\"_blank\">rational.jl:236</a><li> isone(x::<b>Rational</b>) in Base at <a href=\"https://github.com/JuliaLang/julia/tree/v1.1.1/base/rational.jl#L446\" target=\"_blank\">rational.jl:446</a><li> iszero(x::<b>Rational</b>) in Base at <a href=\"https://github.com/JuliaLang/julia/tree/v1.1.1/base/rational.jl#L445\" target=\"_blank\">rational.jl:445</a><li> mod(x::<b>Rational</b>, y::<b>Rational</b>) in Base at <a href=\"https://github.com/JuliaLang/julia/tree/v1.1.1/base/rational.jl#L252\" target=\"_blank\">rational.jl:252</a><li> numerator(x::<b>Rational</b>) in Base at <a href=\"https://github.com/JuliaLang/julia/tree/v1.1.1/base/rational.jl#L207\" target=\"_blank\">rational.jl:207</a><li> round<i>{T>:Missing}</i>(::<b>Type{T}</b>, x::<b>Rational</b>) in Base at <a href=\"https://github.com/JuliaLang/julia/tree/v1.1.1/base/missing.jl#L118\" target=\"_blank\">missing.jl:118</a><li> round<i>{T}</i>(::<b>Type{T}</b>, x::<b>Rational</b>) in Base at <a href=\"https://github.com/JuliaLang/julia/tree/v1.1.1/base/rational.jl#L385\" target=\"_blank\">rational.jl:385</a><li> show(io::<b>IO</b>, x::<b>Rational</b>) in Base at <a href=\"https://github.com/JuliaLang/julia/tree/v1.1.1/base/rational.jl#L66\" target=\"_blank\">rational.jl:66</a><li> sign(x::<b>Rational</b>) in Base at <a href=\"https://github.com/JuliaLang/julia/tree/v1.1.1/base/rational.jl#L226\" target=\"_blank\">rational.jl:226</a><li> signbit(x::<b>Rational</b>) in Base at <a href=\"https://github.com/JuliaLang/julia/tree/v1.1.1/base/rational.jl#L227\" target=\"_blank\">rational.jl:227</a><li> trunc<i>{T>:Missing}</i>(::<b>Type{T}</b>, x::<b>Rational</b>) in Base at <a href=\"https://github.com/JuliaLang/julia/tree/v1.1.1/base/missing.jl#L118\" target=\"_blank\">missing.jl:118</a><li> trunc<i>{T}</i>(::<b>Type{T}</b>, x::<b>Rational</b>) in Base at <a href=\"https://github.com/JuliaLang/julia/tree/v1.1.1/base/rational.jl#L366\" target=\"_blank\">rational.jl:366</a><li> write(s::<b>IO</b>, z::<b>Rational</b>) in Base at <a href=\"https://github.com/JuliaLang/julia/tree/v1.1.1/base/rational.jl#L77\" target=\"_blank\">rational.jl:77</a></ul>"
      ],
      "text/plain": [
       "[1] rem(x::Rational, y::Rational) in Base at rational.jl:252\n",
       "[2] *(x::Rational, y::Rational) in Base at rational.jl:259\n",
       "[3] +(x::Rational, y::Rational) in Base at rational.jl:252\n",
       "[4] -(x::Rational) in Base at rational.jl:238\n",
       "[5] -(x::Rational, y::Rational) in Base at rational.jl:252\n",
       "[6] /(x::Rational, y::Complex{#s72} where #s72<:Union{Integer, Rational}) in Base at rational.jl:264\n",
       "[7] /(x::Rational, y::Rational) in Base at rational.jl:263\n",
       "[8] //(x::Rational, y::Integer) in Base at rational.jl:46\n",
       "[9] //(x::Integer, y::Rational) in Base at rational.jl:50\n",
       "[10] //(x::Rational, y::Rational) in Base at rational.jl:54\n",
       "[11] <(x::Rational, y::Rational) in Base at rational.jl:270\n",
       "[12] <(x::Rational, y::Integer) in Base at rational.jl:278\n",
       "[13] <(x::Integer, y::Rational) in Base at rational.jl:279\n",
       "[14] <(x::Rational, y::AbstractFloat) in Base at rational.jl:296\n",
       "[15] <(x::AbstractFloat, y::Rational) in Base at rational.jl:296\n",
       "[16] <=(x::Rational, y::Rational) in Base at rational.jl:272\n",
       "[17] <=(x::Rational, y::Integer) in Base at rational.jl:280\n",
       "[18] <=(x::Integer, y::Rational) in Base at rational.jl:281\n",
       "[19] <=(x::Rational, y::AbstractFloat) in Base at rational.jl:296\n",
       "[20] <=(x::AbstractFloat, y::Rational) in Base at rational.jl:296\n",
       "[21] <=(x::AbstractIrrational, y::Rational) in Base at irrationals.jl:119\n",
       "[22] <=(x::Rational, y::AbstractIrrational) in Base at irrationals.jl:120\n",
       "[23] ==(z::Complex, x::Rational) in Base at rational.jl:345\n",
       "[24] ==(x::Rational, z::Complex) in Base at rational.jl:346\n",
       "[25] ==(x::Rational, y::Rational) in Base at rational.jl:269\n",
       "[26] ==(x::Rational, y::Integer) in Base at rational.jl:276\n",
       "[27] ==(x::Integer, y::Rational) in Base at rational.jl:277\n",
       "[28] ==(x::AbstractFloat, q::Rational) in Base at rational.jl:284\n",
       "[29] ==(q::Rational, x::AbstractFloat) in Base at rational.jl:291\n",
       "[30] ^(::Irrational{:ℯ}, x::Rational) in Base.MathConstants at mathconstants.jl:91\n",
       "[31] ^(z::Complex{T}, p::Rational) where T<:Real in Base at rational.jl:438\n",
       "[32] ^(x::Rational, n::Integer) in Base at rational.jl:433\n",
       "[33] ^(x::T, y::Rational) where T<:AbstractFloat in Base at rational.jl:437\n",
       "[34] ^(x::Number, y::Rational) in Base at rational.jl:436\n",
       "[35] abs(x::Rational) in Base at rational.jl:231\n",
       "[36] big(q::Rational) in Base at sysimg.jl:407\n",
       "[37] ceil(::Type{T}, x::Rational) where T>:Missing in Base at missing.jl:118\n",
       "[38] ceil(::Type{T}, x::Rational) where T in Base at rational.jl:368\n",
       "[39] cld(x::Rational, y::Integer) in Base at rational.jl:351\n",
       "[40] cld(x::Integer, y::Rational) in Base at rational.jl:355\n",
       "[41] cld(x::Rational, y::Rational) in Base at rational.jl:359\n",
       "[42] cmp(x::Rational, y::AbstractFloat) in Base at rational.jl:296\n",
       "[43] cmp(x::AbstractFloat, y::Rational) in Base at rational.jl:296\n",
       "[44] copysign(x::Rational, y::Rational) in Base at rational.jl:229\n",
       "[45] copysign(x::Rational, ::Unsigned) in Base at sysimg.jl:400\n",
       "[46] copysign(x::Rational, y::Real) in Base at rational.jl:228\n",
       "[47] denominator(x::Rational) in Base at rational.jl:224\n",
       "[48] div(x::Rational, y::Integer) in Base at rational.jl:351\n",
       "[49] div(x::Integer, y::Rational) in Base at rational.jl:355\n",
       "[50] div(x::Rational, y::Rational) in Base at rational.jl:359\n",
       "[51] fld(x::Rational, y::Integer) in Base at rational.jl:351\n",
       "[52] fld(x::Integer, y::Rational) in Base at rational.jl:355\n",
       "[53] fld(x::Rational, y::Rational) in Base at rational.jl:359\n",
       "[54] flipsign(x::Rational, ::Unsigned) in Base at sysimg.jl:399\n",
       "[55] floor(::Type{T}, x::Rational) where T>:Missing in Base at missing.jl:118\n",
       "[56] floor(::Type{T}, x::Rational) where T in Base at rational.jl:367\n",
       "[57] fma(x::Rational, y::Rational, z::Rational) in Base at rational.jl:267\n",
       "[58] inv(x::Rational) in Base at rational.jl:265\n",
       "[59] isinteger(x::Rational) in Base at rational.jl:236\n",
       "[60] isone(x::Rational) in Base at rational.jl:446\n",
       "[61] iszero(x::Rational) in Base at rational.jl:445\n",
       "[62] mod(x::Rational, y::Rational) in Base at rational.jl:252\n",
       "[63] numerator(x::Rational) in Base at rational.jl:207\n",
       "[64] round(::Type{T}, x::Rational) where T>:Missing in Base at missing.jl:118\n",
       "[65] round(::Type{T}, x::Rational) where T in Base at rational.jl:385\n",
       "[66] show(io::IO, x::Rational) in Base at rational.jl:66\n",
       "[67] sign(x::Rational) in Base at rational.jl:226\n",
       "[68] signbit(x::Rational) in Base at rational.jl:227\n",
       "[69] trunc(::Type{T}, x::Rational) where T>:Missing in Base at missing.jl:118\n",
       "[70] trunc(::Type{T}, x::Rational) where T in Base at rational.jl:366\n",
       "[71] write(s::IO, z::Rational) in Base at rational.jl:77"
      ]
     },
     "execution_count": 20,
     "metadata": {},
     "output_type": "execute_result"
    }
   ],
   "source": [
    "# ¿qué puedo hacer con él?\n",
    "methodswith(Rational)"
   ]
  },
  {
   "cell_type": "code",
   "execution_count": 21,
   "metadata": {},
   "outputs": [
    {
     "data": {
      "text/plain": [
       "1"
      ]
     },
     "execution_count": 21,
     "metadata": {},
     "output_type": "execute_result"
    }
   ],
   "source": [
    "# resto de la división\n",
    "rem(7, 3)"
   ]
  },
  {
   "cell_type": "code",
   "execution_count": 22,
   "metadata": {},
   "outputs": [
    {
     "data": {
      "text/plain": [
       "1"
      ]
     },
     "execution_count": 22,
     "metadata": {},
     "output_type": "execute_result"
    }
   ],
   "source": [
    "# y también\n",
    "7 % 3"
   ]
  },
  {
   "cell_type": "markdown",
   "metadata": {},
   "source": [
    "### Punto flotante "
   ]
  },
  {
   "cell_type": "code",
   "execution_count": 23,
   "metadata": {},
   "outputs": [
    {
     "name": "stdout",
     "output_type": "stream",
     "text": [
      "1 / Inf -> 0.0\n",
      "1 / 0 -> Inf\n",
      "-5 / 0 -> -Inf\n",
      "0.00001 / 0 -> Inf\n",
      "0 / 0 -> NaN\n",
      "500 + Inf -> Inf\n",
      "500 - Inf -> -Inf\n",
      "Inf + Inf-> Inf\n",
      "Inf / Inf -> NaN\n",
      "0 / Inf -> 0.0\n",
      "Inf / 0 -> Inf\n"
     ]
    }
   ],
   "source": [
    "# preserve\n",
    "println(\"1 / Inf -> $(1/Inf)\")\n",
    "println(\"1 / 0 -> $(1/0)\")\n",
    "println(\"-5 / 0 -> $(-5 / 0 )\")\n",
    "println(\"0.00001 / 0 -> $(0.00001 / 0)\")\n",
    "println(\"0 / 0 -> $(0 / 0)\")\n",
    "println(\"500 + Inf -> $(500 + Inf)\")\n",
    "println(\"500 - Inf -> $(500 - Inf)\")\n",
    "println(\"Inf + Inf-> $(Inf + Inf)\")\n",
    "println(\"Inf / Inf -> $(Inf/Inf)\")\n",
    "println(\"0 / Inf -> $(0/Inf)\")\n",
    "println(\"Inf / 0 -> $(Inf/0)\")"
   ]
  },
  {
   "cell_type": "code",
   "execution_count": 24,
   "metadata": {},
   "outputs": [
    {
     "data": {
      "text/plain": [
       "2.220446049250313e-16"
      ]
     },
     "execution_count": 24,
     "metadata": {},
     "output_type": "execute_result"
    }
   ],
   "source": [
    "# distancia número más cercano\n",
    "eps(1.0)"
   ]
  },
  {
   "cell_type": "code",
   "execution_count": 25,
   "metadata": {},
   "outputs": [
    {
     "data": {
      "text/plain": [
       "2.220446049250313e-16"
      ]
     },
     "execution_count": 25,
     "metadata": {},
     "output_type": "execute_result"
    }
   ],
   "source": [
    "# eps de un tipo\n",
    "eps(Float64)"
   ]
  },
  {
   "cell_type": "code",
   "execution_count": 26,
   "metadata": {},
   "outputs": [
    {
     "data": {
      "text/plain": [
       "1.1920929f-7"
      ]
     },
     "execution_count": 26,
     "metadata": {},
     "output_type": "execute_result"
    }
   ],
   "source": [
    "eps(Float32)"
   ]
  },
  {
   "cell_type": "code",
   "execution_count": 27,
   "metadata": {},
   "outputs": [
    {
     "data": {
      "text/plain": [
       "1.7976931348623157e308"
      ]
     },
     "execution_count": 27,
     "metadata": {},
     "output_type": "execute_result"
    }
   ],
   "source": [
    "# Flotante anterior\n",
    "prevfloat(Inf)"
   ]
  },
  {
   "cell_type": "code",
   "execution_count": 28,
   "metadata": {},
   "outputs": [
    {
     "data": {
      "text/plain": [
       "1.0"
      ]
     },
     "execution_count": 28,
     "metadata": {},
     "output_type": "execute_result"
    }
   ],
   "source": [
    "# Cambio de tipo Int -> Float\n",
    "Float64(1)"
   ]
  },
  {
   "cell_type": "code",
   "execution_count": 29,
   "metadata": {},
   "outputs": [
    {
     "data": {
      "text/plain": [
       "1"
      ]
     },
     "execution_count": 29,
     "metadata": {},
     "output_type": "execute_result"
    }
   ],
   "source": [
    "# Float -> Int\n",
    "Int(1.0)"
   ]
  },
  {
   "cell_type": "code",
   "execution_count": 30,
   "metadata": {},
   "outputs": [
    {
     "data": {
      "text/plain": [
       "1"
      ]
     },
     "execution_count": 30,
     "metadata": {},
     "output_type": "execute_result"
    }
   ],
   "source": [
    "# También podemos usar convert\n",
    "convert(Int64, 1.0)"
   ]
  },
  {
   "cell_type": "code",
   "execution_count": 31,
   "metadata": {},
   "outputs": [
    {
     "ename": "InexactError",
     "evalue": "InexactError: Int64(1.1)",
     "output_type": "error",
     "traceback": [
      "InexactError: Int64(1.1)",
      "",
      "Stacktrace:",
      " [1] Int64(::Float64) at ./float.jl:703",
      " [2] top-level scope at In[31]:1"
     ]
    }
   ],
   "source": [
    "# Truncar ??\n",
    "Int64(1.1)"
   ]
  },
  {
   "cell_type": "code",
   "execution_count": 32,
   "metadata": {},
   "outputs": [
    {
     "data": {
      "text/plain": [
       "-1.0"
      ]
     },
     "execution_count": 32,
     "metadata": {},
     "output_type": "execute_result"
    }
   ],
   "source": [
    "# Truncar\n",
    "trunc(-1.1)"
   ]
  },
  {
   "cell_type": "code",
   "execution_count": 33,
   "metadata": {},
   "outputs": [
    {
     "data": {
      "text/plain": [
       "-1"
      ]
     },
     "execution_count": 33,
     "metadata": {},
     "output_type": "execute_result"
    }
   ],
   "source": [
    "# Truncar a entero\n",
    "trunc(Int64, -1.1)"
   ]
  },
  {
   "cell_type": "code",
   "execution_count": 34,
   "metadata": {},
   "outputs": [
    {
     "data": {
      "text/plain": [
       "1.0"
      ]
     },
     "execution_count": 34,
     "metadata": {},
     "output_type": "execute_result"
    }
   ],
   "source": [
    "# Redondear\n",
    "round(1.1)"
   ]
  },
  {
   "cell_type": "markdown",
   "metadata": {},
   "source": [
    "### Comparaciones"
   ]
  },
  {
   "cell_type": "code",
   "execution_count": 35,
   "metadata": {},
   "outputs": [
    {
     "data": {
      "text/plain": [
       "true"
      ]
     },
     "execution_count": 35,
     "metadata": {},
     "output_type": "execute_result"
    }
   ],
   "source": [
    "0.1 + 0.2 + 0.3 > 0.4"
   ]
  },
  {
   "cell_type": "code",
   "execution_count": 36,
   "metadata": {},
   "outputs": [
    {
     "data": {
      "text/plain": [
       "false"
      ]
     },
     "execution_count": 36,
     "metadata": {},
     "output_type": "execute_result"
    }
   ],
   "source": [
    "0.1 + 0.2 + 0.3 == 0.6"
   ]
  },
  {
   "cell_type": "code",
   "execution_count": 37,
   "metadata": {},
   "outputs": [
    {
     "data": {
      "text/plain": [
       "true"
      ]
     },
     "execution_count": 37,
     "metadata": {},
     "output_type": "execute_result"
    }
   ],
   "source": [
    "1//10 + 2//10 + 3//10  == 6//10"
   ]
  },
  {
   "cell_type": "code",
   "execution_count": 38,
   "metadata": {},
   "outputs": [
    {
     "data": {
      "text/plain": [
       "0.6"
      ]
     },
     "execution_count": 38,
     "metadata": {},
     "output_type": "execute_result"
    }
   ],
   "source": [
    "Float64(1//10 + 2//10 + 3//10)"
   ]
  },
  {
   "cell_type": "code",
   "execution_count": 39,
   "metadata": {},
   "outputs": [
    {
     "data": {
      "text/plain": [
       "true"
      ]
     },
     "execution_count": 39,
     "metadata": {},
     "output_type": "execute_result"
    }
   ],
   "source": [
    "0.6 == Float64(6//10)"
   ]
  },
  {
   "cell_type": "markdown",
   "metadata": {},
   "source": [
    "## Arrays "
   ]
  },
  {
   "cell_type": "code",
   "execution_count": 40,
   "metadata": {},
   "outputs": [
    {
     "data": {
      "text/plain": [
       "3×3 Array{Float64,2}:\n",
       " 0.790302  0.207395  0.816905\n",
       " 0.320043  0.345702  0.23298 \n",
       " 0.849122  0.548789  0.629812"
      ]
     },
     "execution_count": 40,
     "metadata": {},
     "output_type": "execute_result"
    }
   ],
   "source": [
    "# Creando un array de números aleatorios 3x3\n",
    "arr = rand(3, 3)"
   ]
  },
  {
   "cell_type": "code",
   "execution_count": 41,
   "metadata": {},
   "outputs": [
    {
     "data": {
      "text/plain": [
       "Float64"
      ]
     },
     "execution_count": 41,
     "metadata": {},
     "output_type": "execute_result"
    }
   ],
   "source": [
    "# Tipo del array\n",
    "eltype(arr)"
   ]
  },
  {
   "cell_type": "code",
   "execution_count": 42,
   "metadata": {},
   "outputs": [
    {
     "data": {
      "text/plain": [
       "9"
      ]
     },
     "execution_count": 42,
     "metadata": {},
     "output_type": "execute_result"
    }
   ],
   "source": [
    "# Longitud\n",
    "length(arr)"
   ]
  },
  {
   "cell_type": "code",
   "execution_count": 43,
   "metadata": {},
   "outputs": [
    {
     "data": {
      "text/plain": [
       "(3, 3)"
      ]
     },
     "execution_count": 43,
     "metadata": {},
     "output_type": "execute_result"
    }
   ],
   "source": [
    "# Tamaño\n",
    "size(arr)"
   ]
  },
  {
   "cell_type": "code",
   "execution_count": 44,
   "metadata": {},
   "outputs": [
    {
     "data": {
      "text/plain": [
       "2"
      ]
     },
     "execution_count": 44,
     "metadata": {},
     "output_type": "execute_result"
    }
   ],
   "source": [
    "# Número de dimensiones\n",
    "ndims(arr)"
   ]
  },
  {
   "cell_type": "markdown",
   "metadata": {},
   "source": [
    "### Indexación "
   ]
  },
  {
   "cell_type": "code",
   "execution_count": 45,
   "metadata": {},
   "outputs": [
    {
     "data": {
      "text/plain": [
       "0.7903015394069359"
      ]
     },
     "execution_count": 45,
     "metadata": {},
     "output_type": "execute_result"
    }
   ],
   "source": [
    "arr[1, 1]"
   ]
  },
  {
   "cell_type": "code",
   "execution_count": 46,
   "metadata": {},
   "outputs": [
    {
     "data": {
      "text/plain": [
       "3-element Array{Float64,1}:\n",
       " 0.7903015394069359 \n",
       " 0.20739488903069292\n",
       " 0.816905010229052  "
      ]
     },
     "execution_count": 46,
     "metadata": {},
     "output_type": "execute_result"
    }
   ],
   "source": [
    "arr[1, :]"
   ]
  },
  {
   "cell_type": "code",
   "execution_count": 47,
   "metadata": {},
   "outputs": [
    {
     "data": {
      "text/plain": [
       "0.6298122281078329"
      ]
     },
     "execution_count": 47,
     "metadata": {},
     "output_type": "execute_result"
    }
   ],
   "source": [
    "arr[end, end]"
   ]
  },
  {
   "cell_type": "code",
   "execution_count": 48,
   "metadata": {},
   "outputs": [
    {
     "data": {
      "text/plain": [
       "3×3 BitArray{2}:\n",
       "  true  false   true\n",
       " false  false  false\n",
       "  true   true   true"
      ]
     },
     "execution_count": 48,
     "metadata": {},
     "output_type": "execute_result"
    }
   ],
   "source": [
    "arr .> 0.5"
   ]
  },
  {
   "cell_type": "code",
   "execution_count": 49,
   "metadata": {},
   "outputs": [
    {
     "data": {
      "text/plain": [
       "5-element Array{Float64,1}:\n",
       " 0.7903015394069359\n",
       " 0.8491218482762515\n",
       " 0.548788509002154 \n",
       " 0.816905010229052 \n",
       " 0.6298122281078329"
      ]
     },
     "execution_count": 49,
     "metadata": {},
     "output_type": "execute_result"
    }
   ],
   "source": [
    "arr[arr .> 0.5]"
   ]
  },
  {
   "cell_type": "markdown",
   "metadata": {},
   "source": [
    "### Otras inicializaciones típicas "
   ]
  },
  {
   "cell_type": "code",
   "execution_count": 50,
   "metadata": {},
   "outputs": [
    {
     "data": {
      "text/plain": [
       "10-element Array{Float64,1}:\n",
       " 0.0\n",
       " 0.0\n",
       " 0.0\n",
       " 0.0\n",
       " 0.0\n",
       " 0.0\n",
       " 0.0\n",
       " 0.0\n",
       " 0.0\n",
       " 0.0"
      ]
     },
     "execution_count": 50,
     "metadata": {},
     "output_type": "execute_result"
    }
   ],
   "source": [
    "zeros(10)"
   ]
  },
  {
   "cell_type": "code",
   "execution_count": 51,
   "metadata": {},
   "outputs": [
    {
     "data": {
      "text/plain": [
       "10-element Array{Float64,1}:\n",
       " 1.0\n",
       " 1.0\n",
       " 1.0\n",
       " 1.0\n",
       " 1.0\n",
       " 1.0\n",
       " 1.0\n",
       " 1.0\n",
       " 1.0\n",
       " 1.0"
      ]
     },
     "execution_count": 51,
     "metadata": {},
     "output_type": "execute_result"
    }
   ],
   "source": [
    "ones(10)"
   ]
  },
  {
   "cell_type": "code",
   "execution_count": 52,
   "metadata": {},
   "outputs": [
    {
     "data": {
      "text/plain": [
       "0.0:0.5:10.0"
      ]
     },
     "execution_count": 52,
     "metadata": {},
     "output_type": "execute_result"
    }
   ],
   "source": [
    "x = range(0, 10, step=0.5)"
   ]
  },
  {
   "cell_type": "code",
   "execution_count": 53,
   "metadata": {},
   "outputs": [
    {
     "data": {
      "text/plain": [
       "0.0:0.5:10.0"
      ]
     },
     "execution_count": 53,
     "metadata": {},
     "output_type": "execute_result"
    }
   ],
   "source": [
    "x = range(0, 10, length=21)"
   ]
  },
  {
   "cell_type": "code",
   "execution_count": 54,
   "metadata": {},
   "outputs": [
    {
     "data": {
      "text/plain": [
       "21-element Array{Float64,1}:\n",
       "  0.0\n",
       "  0.5\n",
       "  1.0\n",
       "  1.5\n",
       "  2.0\n",
       "  2.5\n",
       "  3.0\n",
       "  3.5\n",
       "  4.0\n",
       "  4.5\n",
       "  5.0\n",
       "  5.5\n",
       "  6.0\n",
       "  6.5\n",
       "  7.0\n",
       "  7.5\n",
       "  8.0\n",
       "  8.5\n",
       "  9.0\n",
       "  9.5\n",
       " 10.0"
      ]
     },
     "execution_count": 54,
     "metadata": {},
     "output_type": "execute_result"
    }
   ],
   "source": [
    "x = collect(x)"
   ]
  },
  {
   "cell_type": "code",
   "execution_count": 55,
   "metadata": {},
   "outputs": [
    {
     "data": {
      "text/plain": [
       "21-element Array{Float64,1}:\n",
       "  0.0\n",
       "  0.5\n",
       "  1.0\n",
       "  1.5\n",
       "  2.0\n",
       "  2.5\n",
       "  3.0\n",
       "  3.5\n",
       "  4.0\n",
       "  4.5\n",
       "  5.0\n",
       "  5.5\n",
       "  6.0\n",
       "  6.5\n",
       "  7.0\n",
       "  7.5\n",
       "  8.0\n",
       "  8.5\n",
       "  9.0\n",
       "  9.5\n",
       " 10.0"
      ]
     },
     "execution_count": 55,
     "metadata": {},
     "output_type": "execute_result"
    }
   ],
   "source": [
    "x = collect(0:0.5:10)"
   ]
  },
  {
   "cell_type": "code",
   "execution_count": 56,
   "metadata": {},
   "outputs": [
    {
     "data": {
      "text/plain": [
       "63-element Array{Float64,1}:\n",
       "  0.0                \n",
       "  0.09983341664682815\n",
       "  0.19866933079506122\n",
       "  0.2955202066613396 \n",
       "  0.3894183423086505 \n",
       "  0.479425538604203  \n",
       "  0.5646424733950355 \n",
       "  0.6442176872376911 \n",
       "  0.7173560908995228 \n",
       "  0.7833269096274834 \n",
       "  0.8414709848078965 \n",
       "  0.8912073600614354 \n",
       "  0.9320390859672264 \n",
       "  ⋮                  \n",
       " -0.9258146823277321 \n",
       " -0.8834546557201531 \n",
       " -0.8322674422239008 \n",
       " -0.7727644875559871 \n",
       " -0.7055403255703919 \n",
       " -0.6312666378723208 \n",
       " -0.5506855425976376 \n",
       " -0.4646021794137566 \n",
       " -0.373876664830236  \n",
       " -0.27941549819892586\n",
       " -0.18216250427209502\n",
       " -0.0830894028174964 "
      ]
     },
     "execution_count": 56,
     "metadata": {},
     "output_type": "execute_result"
    }
   ],
   "source": [
    "# Comprehension\n",
    "[sin(x) for x in 0:0.1:2pi]"
   ]
  },
  {
   "cell_type": "code",
   "execution_count": 57,
   "metadata": {},
   "outputs": [
    {
     "data": {
      "text/plain": [
       "Base.Generator{StepRangeLen{Float64,Base.TwicePrecision{Float64},Base.TwicePrecision{Float64}},typeof(sin)}(sin, 0.0:0.1:6.2)"
      ]
     },
     "execution_count": 57,
     "metadata": {},
     "output_type": "execute_result"
    }
   ],
   "source": [
    "# Generator expression\n",
    "(sin(x) for x in 0:0.1:2pi)"
   ]
  },
  {
   "cell_type": "markdown",
   "metadata": {},
   "source": [
    "### Operaciones "
   ]
  },
  {
   "cell_type": "code",
   "execution_count": 58,
   "metadata": {},
   "outputs": [
    {
     "data": {
      "text/plain": [
       "2×3 Array{Int64,2}:\n",
       " 1  2  3\n",
       " 4  5  6"
      ]
     },
     "execution_count": 58,
     "metadata": {},
     "output_type": "execute_result"
    }
   ],
   "source": [
    "arr1 = [1 2 3;\n",
    "            4 5 6]"
   ]
  },
  {
   "cell_type": "code",
   "execution_count": 59,
   "metadata": {},
   "outputs": [
    {
     "data": {
      "text/plain": [
       "2×3 Array{Int64,2}:\n",
       " 1  2  3\n",
       " 4  5  6"
      ]
     },
     "execution_count": 59,
     "metadata": {},
     "output_type": "execute_result"
    }
   ],
   "source": [
    "arr2 = [1 2 3; 4 5 6]"
   ]
  },
  {
   "cell_type": "code",
   "execution_count": 60,
   "metadata": {},
   "outputs": [
    {
     "data": {
      "text/plain": [
       "3-element Array{Int64,1}:\n",
       " 1\n",
       " 2\n",
       " 3"
      ]
     },
     "execution_count": 60,
     "metadata": {},
     "output_type": "execute_result"
    }
   ],
   "source": [
    "arr3 = [1, 2, 3]"
   ]
  },
  {
   "cell_type": "code",
   "execution_count": 61,
   "metadata": {},
   "outputs": [
    {
     "data": {
      "text/plain": [
       "3-element Array{Int64,1}:\n",
       " 1\n",
       " 2\n",
       " 3"
      ]
     },
     "execution_count": 61,
     "metadata": {},
     "output_type": "execute_result"
    }
   ],
   "source": [
    "arr4 = [1; 2; 3]"
   ]
  },
  {
   "cell_type": "code",
   "execution_count": 62,
   "metadata": {},
   "outputs": [
    {
     "data": {
      "text/plain": [
       "2×2 Array{Int64,2}:\n",
       " 14  32\n",
       " 32  77"
      ]
     },
     "execution_count": 62,
     "metadata": {},
     "output_type": "execute_result"
    }
   ],
   "source": [
    "arr2 * arr2'"
   ]
  },
  {
   "cell_type": "code",
   "execution_count": 63,
   "metadata": {},
   "outputs": [
    {
     "data": {
      "text/plain": [
       "2×3 Array{Int64,2}:\n",
       "  1   4   9\n",
       " 16  25  36"
      ]
     },
     "execution_count": 63,
     "metadata": {},
     "output_type": "execute_result"
    }
   ],
   "source": [
    "arr2 .* arr2"
   ]
  },
  {
   "cell_type": "code",
   "execution_count": 64,
   "metadata": {},
   "outputs": [
    {
     "data": {
      "text/plain": [
       "2-element Array{Int64,1}:\n",
       " 14\n",
       " 32"
      ]
     },
     "execution_count": 64,
     "metadata": {},
     "output_type": "execute_result"
    }
   ],
   "source": [
    "arr2 * arr4"
   ]
  },
  {
   "cell_type": "code",
   "execution_count": 65,
   "metadata": {},
   "outputs": [
    {
     "data": {
      "text/plain": [
       "2×3 Array{Int64,2}:\n",
       " 1   2   3\n",
       " 8  10  12"
      ]
     },
     "execution_count": 65,
     "metadata": {},
     "output_type": "execute_result"
    }
   ],
   "source": [
    "arr2 .* [1; 2]"
   ]
  },
  {
   "cell_type": "markdown",
   "metadata": {},
   "source": [
    "### Álgebra lineal"
   ]
  },
  {
   "cell_type": "code",
   "execution_count": 66,
   "metadata": {},
   "outputs": [],
   "source": [
    "using LinearAlgebra"
   ]
  },
  {
   "cell_type": "markdown",
   "metadata": {},
   "source": [
    "#### Traspuesta"
   ]
  },
  {
   "cell_type": "markdown",
   "metadata": {},
   "source": [
    "Como en otros lenguajes, `A'` es la transpuesta conjugada"
   ]
  },
  {
   "cell_type": "code",
   "execution_count": 67,
   "metadata": {},
   "outputs": [
    {
     "data": {
      "text/plain": [
       "3×2 Adjoint{Int64,Array{Int64,2}}:\n",
       " 1  4\n",
       " 2  5\n",
       " 3  6"
      ]
     },
     "execution_count": 67,
     "metadata": {},
     "output_type": "execute_result"
    }
   ],
   "source": [
    "arr2'"
   ]
  },
  {
   "cell_type": "code",
   "execution_count": 68,
   "metadata": {},
   "outputs": [
    {
     "data": {
      "text/plain": [
       "3×3 Array{Complex{Float64},2}:\n",
       " 0.686954+0.803361im   0.944847+0.335514im  0.0942912+0.0548651im\n",
       " 0.628852+0.589378im  0.0363343+0.175687im   0.957406+0.63838im  \n",
       " 0.847246+0.359153im   0.221742+0.266783im   0.787827+0.154139im "
      ]
     },
     "execution_count": 68,
     "metadata": {},
     "output_type": "execute_result"
    }
   ],
   "source": [
    "arr_complex = rand(3, 3) + 1im * rand(3, 3)"
   ]
  },
  {
   "cell_type": "code",
   "execution_count": 69,
   "metadata": {},
   "outputs": [
    {
     "data": {
      "text/plain": [
       "3×3 Adjoint{Complex{Float64},Array{Complex{Float64},2}}:\n",
       "  0.686954-0.803361im    0.628852-0.589378im  0.847246-0.359153im\n",
       "  0.944847-0.335514im   0.0363343-0.175687im  0.221742-0.266783im\n",
       " 0.0942912-0.0548651im   0.957406-0.63838im   0.787827-0.154139im"
      ]
     },
     "execution_count": 69,
     "metadata": {},
     "output_type": "execute_result"
    }
   ],
   "source": [
    "arr_complex'"
   ]
  },
  {
   "cell_type": "code",
   "execution_count": 70,
   "metadata": {},
   "outputs": [
    {
     "data": {
      "text/plain": [
       "3×3 Transpose{Complex{Float64},Array{Complex{Float64},2}}:\n",
       "  0.686954+0.803361im    0.628852+0.589378im  0.847246+0.359153im\n",
       "  0.944847+0.335514im   0.0363343+0.175687im  0.221742+0.266783im\n",
       " 0.0942912+0.0548651im   0.957406+0.63838im   0.787827+0.154139im"
      ]
     },
     "execution_count": 70,
     "metadata": {},
     "output_type": "execute_result"
    }
   ],
   "source": [
    "transpose(arr_complex)"
   ]
  },
  {
   "cell_type": "markdown",
   "metadata": {},
   "source": [
    "#### Inversa "
   ]
  },
  {
   "cell_type": "code",
   "execution_count": 71,
   "metadata": {},
   "outputs": [
    {
     "data": {
      "text/plain": [
       "3×3 Array{Float64,2}:\n",
       " -3.44735   -12.1863    8.97937\n",
       "  0.143407    7.51496  -2.96594\n",
       "  4.5228      9.88152  -7.93395"
      ]
     },
     "execution_count": 71,
     "metadata": {},
     "output_type": "execute_result"
    }
   ],
   "source": [
    "inv(arr)"
   ]
  },
  {
   "cell_type": "markdown",
   "metadata": {},
   "source": [
    "#### Sistemas lineales "
   ]
  },
  {
   "cell_type": "markdown",
   "metadata": {},
   "source": [
    "El problema $Ax=b$ para $A$ cuadrada se resulve con la función \\."
   ]
  },
  {
   "cell_type": "code",
   "execution_count": 72,
   "metadata": {},
   "outputs": [
    {
     "data": {
      "text/plain": [
       "2-element Array{Float64,1}:\n",
       " 0.0\n",
       " 5.0"
      ]
     },
     "execution_count": 72,
     "metadata": {},
     "output_type": "execute_result"
    }
   ],
   "source": [
    "A = [1 2; 3 4]\n",
    "b = [10, 20]\n",
    "\n",
    "x = A \\ b"
   ]
  },
  {
   "cell_type": "code",
   "execution_count": 73,
   "metadata": {},
   "outputs": [
    {
     "data": {
      "text/plain": [
       "2-element Array{Float64,1}:\n",
       " 10.0\n",
       " 20.0"
      ]
     },
     "execution_count": 73,
     "metadata": {},
     "output_type": "execute_result"
    }
   ],
   "source": [
    "A * x "
   ]
  },
  {
   "cell_type": "markdown",
   "metadata": {},
   "source": [
    "También podríamos haber hecho:"
   ]
  },
  {
   "cell_type": "code",
   "execution_count": 74,
   "metadata": {},
   "outputs": [
    {
     "data": {
      "text/plain": [
       "2-element Array{Float64,1}:\n",
       " 0.0\n",
       " 5.0"
      ]
     },
     "execution_count": 74,
     "metadata": {},
     "output_type": "execute_result"
    }
   ],
   "source": [
    "inv(A) * b"
   ]
  },
  {
   "cell_type": "markdown",
   "metadata": {},
   "source": [
    "Pero `\\` es capaz de hacer muchas más cosas"
   ]
  },
  {
   "cell_type": "code",
   "execution_count": 75,
   "metadata": {},
   "outputs": [
    {
     "name": "stdout",
     "output_type": "stream",
     "text": [
      "search: \u001b[0m\u001b[1m\\\u001b[22m\n",
      "\n"
     ]
    },
    {
     "data": {
      "text/latex": [
       "\\begin{verbatim}\n",
       "\\(x, y)\n",
       "\\end{verbatim}\n",
       "Left division operator: multiplication of \\texttt{y} by the inverse of \\texttt{x} on the left. Gives floating-point results for integer arguments.\n",
       "\n",
       "\\section{Examples}\n",
       "\\begin{verbatim}\n",
       "julia> 3 \\ 6\n",
       "2.0\n",
       "\n",
       "julia> inv(3) * 6\n",
       "2.0\n",
       "\n",
       "julia> A = [4 3; 2 1]; x = [5, 6];\n",
       "\n",
       "julia> A \\ x\n",
       "2-element Array{Float64,1}:\n",
       "  6.5\n",
       " -7.0\n",
       "\n",
       "julia> inv(A) * x\n",
       "2-element Array{Float64,1}:\n",
       "  6.5\n",
       " -7.0\n",
       "\\end{verbatim}\n",
       "\\rule{\\textwidth}{1pt}\n",
       "\\begin{verbatim}\n",
       "\\(A, B)\n",
       "\\end{verbatim}\n",
       "Matrix division using a polyalgorithm. For input matrices \\texttt{A} and \\texttt{B}, the result \\texttt{X} is such that \\texttt{A*X == B} when \\texttt{A} is square. The solver that is used depends upon the structure of \\texttt{A}.  If \\texttt{A} is upper or lower triangular (or diagonal), no factorization of \\texttt{A} is required and the system is solved with either forward or backward substitution. For non-triangular square matrices, an LU factorization is used.\n",
       "\n",
       "For rectangular \\texttt{A} the result is the minimum-norm least squares solution computed by a pivoted QR factorization of \\texttt{A} and a rank estimate of \\texttt{A} based on the R factor.\n",
       "\n",
       "When \\texttt{A} is sparse, a similar polyalgorithm is used. For indefinite matrices, the \\texttt{LDLt} factorization does not use pivoting during the numerical factorization and therefore the procedure can fail even for invertible matrices.\n",
       "\n",
       "\\section{Examples}\n",
       "\\begin{verbatim}\n",
       "julia> A = [1 0; 1 -2]; B = [32; -4];\n",
       "\n",
       "julia> X = A \\ B\n",
       "2-element Array{Float64,1}:\n",
       " 32.0\n",
       " 18.0\n",
       "\n",
       "julia> A * X == B\n",
       "true\n",
       "\\end{verbatim}\n",
       "\\rule{\\textwidth}{1pt}\n",
       "\\begin{verbatim}\n",
       "(\\)(F::QRSparse, B::StridedVecOrMat)\n",
       "\\end{verbatim}\n",
       "Solve the least squares problem $\\min\\|Ax - b\\|^2$ or the linear system of equations $Ax=b$ when \\texttt{F} is the sparse QR factorization of $A$. A basic solution is returned when the problem is underdetermined.\n",
       "\n",
       "\\section{Examples}\n",
       "\\begin{verbatim}\n",
       "julia> A = sparse([1,2,4], [1,1,1], [1.0,1.0,1.0], 4, 2)\n",
       "4×2 SparseMatrixCSC{Float64,Int64} with 3 stored entries:\n",
       "  [1, 1]  =  1.0\n",
       "  [2, 1]  =  1.0\n",
       "  [4, 1]  =  1.0\n",
       "\n",
       "julia> qr(A)\\fill(1.0, 4)\n",
       "2-element Array{Float64,1}:\n",
       " 1.0\n",
       " 0.0\n",
       "\\end{verbatim}\n"
      ],
      "text/markdown": [
       "```\n",
       "\\(x, y)\n",
       "```\n",
       "\n",
       "Left division operator: multiplication of `y` by the inverse of `x` on the left. Gives floating-point results for integer arguments.\n",
       "\n",
       "# Examples\n",
       "\n",
       "```jldoctest\n",
       "julia> 3 \\ 6\n",
       "2.0\n",
       "\n",
       "julia> inv(3) * 6\n",
       "2.0\n",
       "\n",
       "julia> A = [4 3; 2 1]; x = [5, 6];\n",
       "\n",
       "julia> A \\ x\n",
       "2-element Array{Float64,1}:\n",
       "  6.5\n",
       " -7.0\n",
       "\n",
       "julia> inv(A) * x\n",
       "2-element Array{Float64,1}:\n",
       "  6.5\n",
       " -7.0\n",
       "```\n",
       "\n",
       "---\n",
       "\n",
       "```\n",
       "\\(A, B)\n",
       "```\n",
       "\n",
       "Matrix division using a polyalgorithm. For input matrices `A` and `B`, the result `X` is such that `A*X == B` when `A` is square. The solver that is used depends upon the structure of `A`.  If `A` is upper or lower triangular (or diagonal), no factorization of `A` is required and the system is solved with either forward or backward substitution. For non-triangular square matrices, an LU factorization is used.\n",
       "\n",
       "For rectangular `A` the result is the minimum-norm least squares solution computed by a pivoted QR factorization of `A` and a rank estimate of `A` based on the R factor.\n",
       "\n",
       "When `A` is sparse, a similar polyalgorithm is used. For indefinite matrices, the `LDLt` factorization does not use pivoting during the numerical factorization and therefore the procedure can fail even for invertible matrices.\n",
       "\n",
       "# Examples\n",
       "\n",
       "```jldoctest\n",
       "julia> A = [1 0; 1 -2]; B = [32; -4];\n",
       "\n",
       "julia> X = A \\ B\n",
       "2-element Array{Float64,1}:\n",
       " 32.0\n",
       " 18.0\n",
       "\n",
       "julia> A * X == B\n",
       "true\n",
       "```\n",
       "\n",
       "---\n",
       "\n",
       "```\n",
       "(\\)(F::QRSparse, B::StridedVecOrMat)\n",
       "```\n",
       "\n",
       "Solve the least squares problem $\\min\\|Ax - b\\|^2$ or the linear system of equations $Ax=b$ when `F` is the sparse QR factorization of $A$. A basic solution is returned when the problem is underdetermined.\n",
       "\n",
       "# Examples\n",
       "\n",
       "```jldoctest\n",
       "julia> A = sparse([1,2,4], [1,1,1], [1.0,1.0,1.0], 4, 2)\n",
       "4×2 SparseMatrixCSC{Float64,Int64} with 3 stored entries:\n",
       "  [1, 1]  =  1.0\n",
       "  [2, 1]  =  1.0\n",
       "  [4, 1]  =  1.0\n",
       "\n",
       "julia> qr(A)\\fill(1.0, 4)\n",
       "2-element Array{Float64,1}:\n",
       " 1.0\n",
       " 0.0\n",
       "```\n"
      ],
      "text/plain": [
       "\u001b[36m  \\(x, y)\u001b[39m\n",
       "\n",
       "  Left division operator: multiplication of \u001b[36my\u001b[39m by the inverse of \u001b[36mx\u001b[39m on the left.\n",
       "  Gives floating-point results for integer arguments.\n",
       "\n",
       "\u001b[1m  Examples\u001b[22m\n",
       "\u001b[1m  ≡≡≡≡≡≡≡≡≡≡\u001b[22m\n",
       "\n",
       "\u001b[36m  julia> 3 \\ 6\u001b[39m\n",
       "\u001b[36m  2.0\u001b[39m\n",
       "\u001b[36m  \u001b[39m\n",
       "\u001b[36m  julia> inv(3) * 6\u001b[39m\n",
       "\u001b[36m  2.0\u001b[39m\n",
       "\u001b[36m  \u001b[39m\n",
       "\u001b[36m  julia> A = [4 3; 2 1]; x = [5, 6];\u001b[39m\n",
       "\u001b[36m  \u001b[39m\n",
       "\u001b[36m  julia> A \\ x\u001b[39m\n",
       "\u001b[36m  2-element Array{Float64,1}:\u001b[39m\n",
       "\u001b[36m    6.5\u001b[39m\n",
       "\u001b[36m   -7.0\u001b[39m\n",
       "\u001b[36m  \u001b[39m\n",
       "\u001b[36m  julia> inv(A) * x\u001b[39m\n",
       "\u001b[36m  2-element Array{Float64,1}:\u001b[39m\n",
       "\u001b[36m    6.5\u001b[39m\n",
       "\u001b[36m   -7.0\u001b[39m\n",
       "\n",
       "  ────────────────────────────────────────────────────────────────────────────\n",
       "\n",
       "\u001b[36m  \\(A, B)\u001b[39m\n",
       "\n",
       "  Matrix division using a polyalgorithm. For input matrices \u001b[36mA\u001b[39m and \u001b[36mB\u001b[39m, the\n",
       "  result \u001b[36mX\u001b[39m is such that \u001b[36mA*X == B\u001b[39m when \u001b[36mA\u001b[39m is square. The solver that is used\n",
       "  depends upon the structure of \u001b[36mA\u001b[39m. If \u001b[36mA\u001b[39m is upper or lower triangular (or\n",
       "  diagonal), no factorization of \u001b[36mA\u001b[39m is required and the system is solved with\n",
       "  either forward or backward substitution. For non-triangular square matrices,\n",
       "  an LU factorization is used.\n",
       "\n",
       "  For rectangular \u001b[36mA\u001b[39m the result is the minimum-norm least squares solution\n",
       "  computed by a pivoted QR factorization of \u001b[36mA\u001b[39m and a rank estimate of \u001b[36mA\u001b[39m based\n",
       "  on the R factor.\n",
       "\n",
       "  When \u001b[36mA\u001b[39m is sparse, a similar polyalgorithm is used. For indefinite matrices,\n",
       "  the \u001b[36mLDLt\u001b[39m factorization does not use pivoting during the numerical\n",
       "  factorization and therefore the procedure can fail even for invertible\n",
       "  matrices.\n",
       "\n",
       "\u001b[1m  Examples\u001b[22m\n",
       "\u001b[1m  ≡≡≡≡≡≡≡≡≡≡\u001b[22m\n",
       "\n",
       "\u001b[36m  julia> A = [1 0; 1 -2]; B = [32; -4];\u001b[39m\n",
       "\u001b[36m  \u001b[39m\n",
       "\u001b[36m  julia> X = A \\ B\u001b[39m\n",
       "\u001b[36m  2-element Array{Float64,1}:\u001b[39m\n",
       "\u001b[36m   32.0\u001b[39m\n",
       "\u001b[36m   18.0\u001b[39m\n",
       "\u001b[36m  \u001b[39m\n",
       "\u001b[36m  julia> A * X == B\u001b[39m\n",
       "\u001b[36m  true\u001b[39m\n",
       "\n",
       "  ────────────────────────────────────────────────────────────────────────────\n",
       "\n",
       "\u001b[36m  (\\)(F::QRSparse, B::StridedVecOrMat)\u001b[39m\n",
       "\n",
       "  Solve the least squares problem \u001b[35m\\min\\|Ax - b\\|^2\u001b[39m or the linear system of\n",
       "  equations \u001b[35mAx=b\u001b[39m when \u001b[36mF\u001b[39m is the sparse QR factorization of \u001b[35mA\u001b[39m. A basic solution\n",
       "  is returned when the problem is underdetermined.\n",
       "\n",
       "\u001b[1m  Examples\u001b[22m\n",
       "\u001b[1m  ≡≡≡≡≡≡≡≡≡≡\u001b[22m\n",
       "\n",
       "\u001b[36m  julia> A = sparse([1,2,4], [1,1,1], [1.0,1.0,1.0], 4, 2)\u001b[39m\n",
       "\u001b[36m  4×2 SparseMatrixCSC{Float64,Int64} with 3 stored entries:\u001b[39m\n",
       "\u001b[36m    [1, 1]  =  1.0\u001b[39m\n",
       "\u001b[36m    [2, 1]  =  1.0\u001b[39m\n",
       "\u001b[36m    [4, 1]  =  1.0\u001b[39m\n",
       "\u001b[36m  \u001b[39m\n",
       "\u001b[36m  julia> qr(A)\\fill(1.0, 4)\u001b[39m\n",
       "\u001b[36m  2-element Array{Float64,1}:\u001b[39m\n",
       "\u001b[36m   1.0\u001b[39m\n",
       "\u001b[36m   0.0\u001b[39m"
      ]
     },
     "execution_count": 75,
     "metadata": {},
     "output_type": "execute_result"
    }
   ],
   "source": [
    "?\\"
   ]
  },
  {
   "cell_type": "markdown",
   "metadata": {},
   "source": [
    "Cuando nuestra matriz es alta (número de renglones mayores al número de columnas), tenemos un sistema lineal sobredeterminado.\n",
    "\n",
    "\n",
    "En este caso \\ calcula la de mínimos cuadrados"
   ]
  },
  {
   "cell_type": "code",
   "execution_count": 76,
   "metadata": {},
   "outputs": [
    {
     "data": {
      "text/plain": [
       "2-element Array{Float64,1}:\n",
       " 0.005526745063674493\n",
       " 4.997102719548115   "
      ]
     },
     "execution_count": 76,
     "metadata": {},
     "output_type": "execute_result"
    }
   ],
   "source": [
    "A = [1 2; 3 4; 3.02 3.99]\n",
    "b = [10, 20, 19.96]\n",
    "\n",
    "A \\ b"
   ]
  },
  {
   "cell_type": "markdown",
   "metadata": {},
   "source": [
    "La función \\ también sirve para problemas indeterminados. En este caso, la solución no es única y Julia regresa el valor con la menor norma."
   ]
  },
  {
   "cell_type": "markdown",
   "metadata": {},
   "source": [
    "#### Ejercicio "
   ]
  },
  {
   "cell_type": "code",
   "execution_count": null,
   "metadata": {},
   "outputs": [],
   "source": [
    "#preserve\n",
    "B = reshape((2 .^ (1:1:36)), 6, 6) + rand(1:100, 6, 6)"
   ]
  },
  {
   "cell_type": "markdown",
   "metadata": {},
   "source": [
    "Dada la matriz B, calcular:\n",
    "- Su determinante para comprobar que no es singular\n",
    "- Obtener su inversa\n",
    "- Comprobar que $B B^{-1} = I$"
   ]
  },
  {
   "cell_type": "code",
   "execution_count": null,
   "metadata": {},
   "outputs": [],
   "source": [
    "det(B)"
   ]
  },
  {
   "cell_type": "code",
   "execution_count": null,
   "metadata": {},
   "outputs": [],
   "source": [
    "inv(B)"
   ]
  },
  {
   "cell_type": "code",
   "execution_count": null,
   "metadata": {},
   "outputs": [],
   "source": [
    "inv(B) * B"
   ]
  },
  {
   "cell_type": "code",
   "execution_count": null,
   "metadata": {},
   "outputs": [],
   "source": [
    "isapprox(one(B), inv(B) * B)"
   ]
  },
  {
   "cell_type": "code",
   "execution_count": null,
   "metadata": {},
   "outputs": [],
   "source": [
    "isapprox.(one(B), inv(B)*B)"
   ]
  },
  {
   "cell_type": "code",
   "execution_count": null,
   "metadata": {},
   "outputs": [],
   "source": [
    "cond(B)"
   ]
  },
  {
   "cell_type": "code",
   "execution_count": null,
   "metadata": {},
   "outputs": [],
   "source": [
    "?cond"
   ]
  },
  {
   "cell_type": "markdown",
   "metadata": {},
   "source": [
    "Una buena introducción al uso de arrays :\n",
    "\n",
    "- https://en.wikibooks.org/wiki/Introducing_Julia/Arrays_and_tuples#Rows_and_Columns"
   ]
  },
  {
   "cell_type": "markdown",
   "metadata": {},
   "source": [
    "## Más sobre arrays"
   ]
  },
  {
   "cell_type": "markdown",
   "metadata": {},
   "source": [
    "En realidad los arrays en julia no tienen por qué ser de tipo homogéneo"
   ]
  },
  {
   "cell_type": "code",
   "execution_count": null,
   "metadata": {},
   "outputs": [],
   "source": [
    "# Creamos un array con varios tipos\n",
    "lista = [\"25\", 1, max]"
   ]
  },
  {
   "cell_type": "code",
   "execution_count": null,
   "metadata": {},
   "outputs": [],
   "source": [
    "# no se puede insertar más allá del tamaño del array\n",
    "lista[4] = [1, 2, 3]"
   ]
  },
  {
   "cell_type": "code",
   "execution_count": null,
   "metadata": {},
   "outputs": [],
   "source": [
    "# para añadir elementos tenemos necesitamos\n",
    "push!(lista, [1, 2, 3])"
   ]
  },
  {
   "cell_type": "code",
   "execution_count": null,
   "metadata": {},
   "outputs": [],
   "source": [
    "# para quitarlos\n",
    "pop!(lista)"
   ]
  },
  {
   "cell_type": "code",
   "execution_count": null,
   "metadata": {},
   "outputs": [],
   "source": [
    "lista"
   ]
  },
  {
   "cell_type": "code",
   "execution_count": null,
   "metadata": {},
   "outputs": [],
   "source": [
    "# para eliminar un índice en concreto\n",
    "deleteat!(lista, 1)"
   ]
  },
  {
   "cell_type": "code",
   "execution_count": null,
   "metadata": {},
   "outputs": [],
   "source": [
    "lista"
   ]
  },
  {
   "cell_type": "markdown",
   "metadata": {},
   "source": [
    "En definitiva, los Arrays de Julia cumplen el papel que en Python tienen las listas y los arrays de NumPy"
   ]
  },
  {
   "cell_type": "markdown",
   "metadata": {},
   "source": [
    "## Tuplas "
   ]
  },
  {
   "cell_type": "code",
   "execution_count": null,
   "metadata": {},
   "outputs": [],
   "source": [
    "tupla = (1, 2, 3)"
   ]
  },
  {
   "cell_type": "code",
   "execution_count": null,
   "metadata": {},
   "outputs": [],
   "source": [
    "# son inmutables\n",
    "tupla[1] = 5"
   ]
  },
  {
   "cell_type": "code",
   "execution_count": null,
   "metadata": {},
   "outputs": [],
   "source": [
    "# son inmutables\n",
    "pop!(tupla)"
   ]
  },
  {
   "cell_type": "markdown",
   "metadata": {},
   "source": [
    "## Diccionarios "
   ]
  },
  {
   "cell_type": "code",
   "execution_count": null,
   "metadata": {},
   "outputs": [],
   "source": [
    "d = Dict(\"Julia\" => [\"dinámico\", \"JIT compilation\"],\n",
    "              \"Fortran\" => [\"estático\", \"compilado\"])"
   ]
  },
  {
   "cell_type": "code",
   "execution_count": null,
   "metadata": {},
   "outputs": [],
   "source": [
    "d[\"Julia\"]"
   ]
  },
  {
   "cell_type": "code",
   "execution_count": null,
   "metadata": {},
   "outputs": [],
   "source": [
    "pop!(d, \"Fortran\")"
   ]
  },
  {
   "cell_type": "code",
   "execution_count": null,
   "metadata": {},
   "outputs": [],
   "source": [
    "d[\"Python\"] = [\"dinámico\", \"interpretado\"]"
   ]
  },
  {
   "cell_type": "code",
   "execution_count": null,
   "metadata": {},
   "outputs": [],
   "source": [
    "d"
   ]
  },
  {
   "cell_type": "code",
   "execution_count": null,
   "metadata": {},
   "outputs": [],
   "source": [
    "d[\"Matlab\"] = \"interpretado\""
   ]
  },
  {
   "cell_type": "code",
   "execution_count": null,
   "metadata": {},
   "outputs": [],
   "source": [
    "d = Dict(\"Julia\" => [\"dinámico\", \"JIT compilation\"],\n",
    "              \"Fortran\" => [\"estático\", \"compilado\"],\n",
    "              \"Matlab\" => \"interpretado\")"
   ]
  },
  {
   "cell_type": "code",
   "execution_count": null,
   "metadata": {},
   "outputs": [],
   "source": [
    "customized_d = Dict{String, Union{String, Array{String, 1}}}()"
   ]
  },
  {
   "cell_type": "code",
   "execution_count": null,
   "metadata": {},
   "outputs": [],
   "source": [
    "customized_d[\"a\"] = \"a\" "
   ]
  },
  {
   "cell_type": "code",
   "execution_count": null,
   "metadata": {},
   "outputs": [],
   "source": [
    "customized_d[\"a\"] = [\"a\"]"
   ]
  },
  {
   "cell_type": "code",
   "execution_count": null,
   "metadata": {},
   "outputs": [],
   "source": [
    "customized_d[\"b\"] = (1,)"
   ]
  },
  {
   "cell_type": "code",
   "execution_count": null,
   "metadata": {},
   "outputs": [],
   "source": [
    "customized_d[\"c\"] = [1 2 3; 4 5 6]"
   ]
  },
  {
   "cell_type": "code",
   "execution_count": null,
   "metadata": {},
   "outputs": [],
   "source": [
    "for (key, val) in customized_d\n",
    "    println(key, val)\n",
    "end"
   ]
  },
  {
   "cell_type": "markdown",
   "metadata": {},
   "source": [
    "## Condicionales y bucles "
   ]
  },
  {
   "cell_type": "code",
   "execution_count": null,
   "metadata": {},
   "outputs": [],
   "source": [
    "x = 5.1\n",
    "y = 6.2;"
   ]
  },
  {
   "cell_type": "code",
   "execution_count": null,
   "metadata": {},
   "outputs": [],
   "source": [
    "if x < y\n",
    "    println(\"x es menor que y\")\n",
    "elseif x > y\n",
    "    println(\"x es mayor que y\")\n",
    "else\n",
    "    println(\"x es igual que y\")\n",
    "end"
   ]
  },
  {
   "cell_type": "code",
   "execution_count": null,
   "metadata": {},
   "outputs": [],
   "source": [
    "x > y  ? \"x es mayor que y\" : \"x es menor o igual que y\""
   ]
  },
  {
   "cell_type": "code",
   "execution_count": null,
   "metadata": {},
   "outputs": [],
   "source": [
    "i = 1\n",
    "while i < 1\n",
    "    println(\"i vale: $(i)\")\n",
    "    i +=1\n",
    "end\n",
    "\n",
    "println(\"Fuera del while i vale: $(i)\")"
   ]
  },
  {
   "cell_type": "code",
   "execution_count": null,
   "metadata": {},
   "outputs": [],
   "source": [
    "for j = 1:10\n",
    "           println(\"j vale: $(j)\")\n",
    "end\n",
    "\n",
    "println(\"Fuera del while j vale: $(j)\")"
   ]
  },
  {
   "cell_type": "code",
   "execution_count": null,
   "metadata": {},
   "outputs": [],
   "source": [
    "j = 0\n",
    "\n",
    "for j = 1:10\n",
    "    println(\"j vale: $(j)\")\n",
    "end\n",
    "\n",
    "println(\"Fuera del while j vale: $(j)\")"
   ]
  },
  {
   "cell_type": "code",
   "execution_count": null,
   "metadata": {},
   "outputs": [],
   "source": [
    "for j = 1:10\n",
    "    local j\n",
    "    j = 2j - j\n",
    "    println(\"j vale: $(j)\")\n",
    "end\n",
    "\n",
    "println(\"Fuera del while j vale: $(j)\")"
   ]
  },
  {
   "cell_type": "code",
   "execution_count": null,
   "metadata": {},
   "outputs": [],
   "source": [
    "for jj = 1:10\n",
    "    global j=2jj-jj\n",
    "    println(\"j vale: $(j)\")\n",
    "end\n",
    "\n",
    "println(\"Fuera del while j vale: $(j)\")"
   ]
  },
  {
   "cell_type": "code",
   "execution_count": null,
   "metadata": {},
   "outputs": [],
   "source": [
    "# Bucle for condensado\n",
    "for ii in 1:1:5, jj in 6:1:9\n",
    "    println(\"ii, jj --> $(ii), $(jj)\")\n",
    "end"
   ]
  },
  {
   "cell_type": "markdown",
   "metadata": {},
   "source": [
    "#### Ejercicio\n",
    "\n",
    "Crea un diccionario `squares`, que tiene llaves de valores de 1 a 100. El valor asociado a cada llave es el cuadrado de la llave. Guarda los valores asociados a las llaves pares como enteros y las impares como cadenas. Por ejemplo,\n",
    "\n",
    "```julia\n",
    "squares[10] == 100\n",
    "squares[11] == \"121\"\n",
    "```\n",
    "\n",
    "(¡No necesitas condicionales para esto!)"
   ]
  },
  {
   "cell_type": "code",
   "execution_count": null,
   "metadata": {},
   "outputs": [],
   "source": [
    "squares = Dict{Int, Union{Int, String}}()\n",
    "\n",
    "for ii in 1:2:99\n",
    "    squares[ii] = ii^2\n",
    "end\n",
    "\n",
    "for ii in 2:2:100\n",
    "    squares[ii] = string(ii^2)\n",
    "end\n",
    "\n",
    "squares"
   ]
  },
  {
   "cell_type": "code",
   "execution_count": null,
   "metadata": {},
   "outputs": [],
   "source": [
    "sort(squares)"
   ]
  },
  {
   "cell_type": "code",
   "execution_count": null,
   "metadata": {},
   "outputs": [],
   "source": [
    "using Pkg\n",
    "\n",
    "Pkg.add(\"DataStructures\")"
   ]
  },
  {
   "cell_type": "code",
   "execution_count": null,
   "metadata": {},
   "outputs": [],
   "source": [
    "using DataStructures"
   ]
  },
  {
   "cell_type": "code",
   "execution_count": null,
   "metadata": {},
   "outputs": [],
   "source": [
    "sort(squares)"
   ]
  },
  {
   "cell_type": "code",
   "execution_count": null,
   "metadata": {},
   "outputs": [],
   "source": [
    "methods(sort)"
   ]
  },
  {
   "cell_type": "markdown",
   "metadata": {},
   "source": [
    "---"
   ]
  },
  {
   "cell_type": "code",
   "execution_count": 1,
   "metadata": {},
   "outputs": [
    {
     "data": {
      "text/html": [
       "/* This template is inspired in the one used by Lorena Barba\n",
       "in the numerical-mooc repository: https://github.com/numerical-mooc/numerical-mooc\n",
       "We thank her work and hope you also enjoy the look of the notobooks with this style */\n",
       "\n",
       "<link href='http://fonts.googleapis.com/css?family=Source+Sans+Pro|Josefin+Sans:400,700,400italic|Ubuntu+Condensed' rel='stylesheet' type='text/css'>\n",
       "\n",
       "<style>\n",
       "\n",
       "\n",
       "\n",
       "#notebook_panel { /* main background */\n",
       "    background: #f7f7f7;\n",
       "}\n",
       "\n",
       "div.cell { /* set cell width */\n",
       "    width: 900px;\n",
       "}\n",
       "\n",
       "div #notebook { /* centre the content */\n",
       "    background: #fff; /* white background for content */\n",
       "    width: 950px;\n",
       "    margin: auto;\n",
       "    padding-left: 0em;\n",
       "}\n",
       "\n",
       "#notebook li { /* More space between bullet points */\n",
       "    margin-top:0.7em;\n",
       "}\n",
       "\n",
       "/* draw border around running cells */\n",
       "div.cell.border-box-sizing.code_cell.running { \n",
       "    border: 1px solid #111;\n",
       "}\n",
       "\n",
       "/* Put a solid color box around each cell and its output, visually linking them*/\n",
       "div.cell.code_cell {\n",
       "    font-family: 'Source Sans Pro', sans-serif;\n",
       "    background-color: rgb(256,256,256);\n",
       "    font-size: 110%;\n",
       "    border-radius: 0px; \n",
       "    padding: 0.5em;\n",
       "    margin-left:1em;\n",
       "    margin-top: 1em;\n",
       "}\n",
       "\n",
       "div.text_cell_render{\n",
       "    font-family: 'Josefin Sans', serif;\n",
       "    line-height: 145%;\n",
       "    font-size: 125%;\n",
       "    font-weight: 500;\n",
       "    width:750px;\n",
       "    margin-left:auto;\n",
       "    margin-right:auto;\n",
       "}\n",
       "\n",
       "\n",
       "/* Formatting for header cells */\n",
       ".text_cell_render h1, .text_cell_render h2, .text_cell_render h3,\n",
       ".text_cell_render h4, .text_cell_render h5 {\n",
       "    font-family: 'Ubuntu Condensed', sans-serif;\n",
       "}\n",
       "/*\n",
       ".text_cell_render h1 {\n",
       "    font-family: Flux, 'Ubuntu Condensed', serif;\n",
       "    font-style:regular;\n",
       "    font-weight: 400;    \n",
       "    font-size: 30pt;\n",
       "    text-align: center;\n",
       "    line-height: 100%;\n",
       "    color: #335082;\n",
       "    margin-bottom: 0.5em;\n",
       "    margin-top: 0.5em;\n",
       "    display: block;\n",
       "}\n",
       "*/\n",
       ".text_cell_render h1 {\n",
       "    font-weight: 600;\n",
       "    font-size: 35pt;\n",
       "    line-height: 100%;\n",
       "    color: #252525;\n",
       "    margin-bottom: 0.1em;\n",
       "    margin-top: 0.3em;\n",
       "    display: block;\n",
       "}\n",
       "\n",
       ".text_cell_render h2 {\n",
       "    margin-top:16px;\n",
       "    font-size: 27pt;\n",
       "    font-weight: 550;\n",
       "    margin-bottom: 0.1em;\n",
       "    margin-top: 0.3em;\n",
       "    font-style: regular;\n",
       "    color: #4063D8;\n",
       "}\t\n",
       "\n",
       ".text_cell_render h3 {\n",
       "    font-size: 20pt;\n",
       "    font-weight: 550\n",
       "    text-align: left;\n",
       "    margin-bottom: 0.1em;\n",
       "    margin-top: 0.3em;\n",
       "    font-style: regular;\n",
       "    color:  #9558B2;\n",
       "}\n",
       "\n",
       ".text_cell_render h4 {    /*Use this for captions*/\n",
       "    font-size: 18pt;\n",
       "    font-weight: 450\n",
       "    text-align: left;\n",
       "    margin-bottom: 0.1em;\n",
       "    margin-top: 0.3em;\n",
       "    font-style: regular;\n",
       "    color:  #CB3C33;\n",
       "}\n",
       "\n",
       ".text_cell_render h5 {  /*Use this for small titles*/\n",
       "    font-size: 18pt;\n",
       "    font-weight: 550;\n",
       "    color: rgb(163,0,0);\n",
       "    font-style: italic;\n",
       "    margin-bottom: .1em;\n",
       "    margin-top: 0.8em;\n",
       "    display: block;\n",
       "    color:  #60AD51;\n",
       "}\n",
       "\n",
       ".text_cell_render h6 { /*use this for copyright note*/\n",
       "    font-family: 'Ubuntu Condensed', sans-serif;\n",
       "    font-weight: 300;\n",
       "    font-size: 14pt;\n",
       "    line-height: 100%;\n",
       "    color: #CB3C33;\n",
       "    text-align: right;\n",
       "    margin-bottom: 1px;\n",
       "    margin-top: 1px;\n",
       "}\n",
       "\n",
       ".CodeMirror{\n",
       "        font-family: 'Duru Sans', sans-serif;\n",
       "        font-size: 100%;\n",
       "}\n",
       "\n",
       "</style>\n",
       "<script>\n",
       "    MathJax.Hub.Config({\n",
       "                        TeX: {\n",
       "                           extensions: [\"AMSmath.js\"],\n",
       "                           equationNumbers: { autoNumber: \"AMS\", useLabelIds: true}\n",
       "                           },\n",
       "                tex2jax: {\n",
       "                    inlineMath: [ ['$','$'], [\"\\\\(\",\"\\\\)\"] ],\n",
       "                    displayMath: [ ['$$','$$'], [\"\\\\[\",\"\\\\]\"] ]\n",
       "                },\n",
       "                displayAlign: 'center', // Change this to 'center' to center equations.\n",
       "                \"HTML-CSS\": {\n",
       "                    styles: {'.MathJax_Display': {\"margin\": 4}}\n",
       "                }\n",
       "        });\n",
       "</script>\n"
      ],
      "text/plain": [
       "PyObject <IPython.core.display.HTML object>"
      ]
     },
     "execution_count": 1,
     "metadata": {},
     "output_type": "execute_result"
    },
    {
     "name": "stderr",
     "output_type": "stream",
     "text": [
      "┌ Warning: `getindex(o::PyObject, s::AbstractString)` is deprecated in favor of dot overloading (`getproperty`) so elements should now be accessed as e.g. `o.\"s\"` instead of `o[\"s\"]`.\n",
      "│   caller = show(::IOContext{Base.GenericIOBuffer{Array{UInt8,1}}}, ::MIME{Symbol(\"text/html\")}, ::PyObject) at PyCall.jl:895\n",
      "└ @ PyCall /home/asaez/.julia/packages/PyCall/ttONZ/src/PyCall.jl:895\n"
     ]
    }
   ],
   "source": [
    "using PyCall\n",
    "display_ = pyimport(\"IPython.core.display\")\n",
    "css_file = \"./style/style.css\"\n",
    "display_.HTML(pybuiltin(\"open\")(css_file).read())"
   ]
  }
 ],
 "metadata": {
  "@webio": {
   "lastCommId": null,
   "lastKernelId": null
  },
  "kernelspec": {
   "display_name": "Julia 1.1.1",
   "language": "julia",
   "name": "julia-1.1"
  },
  "language_info": {
   "file_extension": ".jl",
   "mimetype": "application/julia",
   "name": "julia",
   "version": "1.1.1"
  }
 },
 "nbformat": 4,
 "nbformat_minor": 2
}
