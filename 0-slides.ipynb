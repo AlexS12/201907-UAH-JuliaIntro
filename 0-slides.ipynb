{
 "cells": [
  {
   "cell_type": "markdown",
   "metadata": {
    "slideshow": {
     "slide_type": "slide"
    }
   },
   "source": [
    "# Introducción a\n",
    "\n",
    "<center><img src=\"images/Julia_prog_language.svg.png\" width=500px></center>\n",
    "\n",
    "##### Alex Sáez\n",
    "###### Julio 2019 - UAH"
   ]
  },
  {
   "cell_type": "markdown",
   "metadata": {
    "slideshow": {
     "slide_type": "slide"
    }
   },
   "source": [
    "### `> print(AlexSaez)`\n",
    "\n",
    "* **Ingeniero Aeronáutico**\n",
    "\n",
    "- Airbus DS - Flight Test Analysis Tools: \n",
    "      - Herramientas para análisis de datos de ensayos\n",
    "      - Elaboración de parámetros en tiempo real\n",
    "      - Python, MATLAB, Fortran\n",
    "- Formación: Python Científico\n",
    "- Co-fundador del grupo AeroPython\n",
    "- Miembro activo de la comunidad Python España\n",
    "- Últimamente adentrándome más y más en Julia\n"
   ]
  },
  {
   "cell_type": "markdown",
   "metadata": {
    "slideshow": {
     "slide_type": "subslide"
    }
   },
   "source": [
    "## Índice\n",
    "\n",
    "- Introducción: ¿qué es? ¿de dónde viene? ¿por qué?\n",
    "- Lenguajes de scripting vs compilados\n",
    "- Instalación\n",
    "- Manos a la obra\n",
    "  - Introducción al lenguaje\n",
    "  - Multiple dispatch\n",
    "  - Librerías: Plots.jl y DataFrames.jl\n",
    "- ¿Por qué es rápido Julia?\n",
    "- Conclusiones"
   ]
  },
  {
   "cell_type": "markdown",
   "metadata": {
    "slideshow": {
     "slide_type": "slide"
    }
   },
   "source": [
    "## ¿Qué es Julia?\n",
    "\n",
    "Es un lenguaje de programación de alto nivel:\n",
    " - **dinámico**\n",
    " - enfocado en la **programación científica** y el cálculo numérico\n",
    " - con un **rendimiento** comparable a los lenguajes estáticamente tipados (ej. C, FORTRAN)\n",
    " - Open Source (licencia MIT)"
   ]
  },
  {
   "cell_type": "markdown",
   "metadata": {
    "slideshow": {
     "slide_type": "slide"
    }
   },
   "source": [
    "## Historia\n",
    "\n",
    "- Empezó a fraguarse en **2009** en el MIT:\n",
    "  - Jeff Bezanson, Stefan Karpinski, Viral B. Shah, Alan Edelman\n",
    "- Tuvo su primera release en febrero de **2010**\n",
    "- En agosto de 2018 se publicó la versión 1.0"
   ]
  },
  {
   "cell_type": "markdown",
   "metadata": {
    "slideshow": {
     "slide_type": "subslide"
    }
   },
   "source": [
    "#### Why We Created Julia\n",
    "##### 14 Feb 2012  |  Jeff Bezanson, Stefan Karpinski, Viral B. Shah, Alan Edelman\n",
    "> We are power **Matlab** users. Some of us are **Lisp** hackers. Some are **Pythonistas**, others **Rubyists**, still others **Perl** hackers. There are those of us who used **Mathematica** before we could grow facial hair. There are those who still can’t grow facial hair. We’ve generated more **R** plots than any sane person should.  __C__ is our desert island programming language."
   ]
  },
  {
   "cell_type": "markdown",
   "metadata": {
    "slideshow": {
     "slide_type": "subslide"
    }
   },
   "source": [
    "#### Why We Created Julia\n",
    "##### 14 Feb 2012  |  Jeff Bezanson, Stefan Karpinski, Viral B. Shah, Alan Edelman\n",
    "\n",
    "> each one is perfect for some aspects of the work and terrible for others. **Each one is a trade-off**."
   ]
  },
  {
   "cell_type": "markdown",
   "metadata": {
    "slideshow": {
     "slide_type": "subslide"
    }
   },
   "source": [
    "#### Why We Created Julia\n",
    "##### 14 Feb 2012  |  Jeff Bezanson, Stefan Karpinski, Viral B. Shah, Alan Edelman\n",
    "\n",
    "> We want a language that’s **open source**, with a liberal license. We want the **speed of C** with the **dynamism of Ruby**. We want a language that’s homoiconic, with **true macros like Lisp**, but with obvious, **familiar mathematical notation like Matlab**. We want something as usable for **general programming as Python,** as easy for **statistics as R**, as natural for **string processing as Perl, as powerful for linear algebra as Matlab**, as good at gluing programs together as the shell. Something that is **dirt simple to learn, yet keeps the most serious hackers happy**. We want it interactive and we want it compiled.\n",
    "\n",
    "> **(Did we mention it should be as fast as C?)**"
   ]
  },
  {
   "cell_type": "markdown",
   "metadata": {
    "slideshow": {
     "slide_type": "slide"
    }
   },
   "source": [
    "### Two languaje problem\n",
    "\n",
    "Podríamos decir que el mundo se divide en dos tipos de lenguajes:\n",
    "- Lenguajes **compilados**: curva de aprendizaje lenta, ejecución muy rápida\n",
    "- Lenguajes de **scripting**: fáciles de usar, mucho más lentos que los compilados\n",
    "\n",
    "\n",
    "<center><img src=\"images/compiling.png\" width=500px></center>"
   ]
  },
  {
   "cell_type": "markdown",
   "metadata": {
    "slideshow": {
     "slide_type": "subslide"
    }
   },
   "source": [
    "##### ¿Cuál hemos elegido?\n",
    "\n",
    "> Fácil de escribir **para las personas** o relativamente fácil **para las máquinas** de ejecutar\n",
    "\n",
    "<center><img src=\"images/programming_languages_used.png\" width=600px></center>"
   ]
  },
  {
   "cell_type": "markdown",
   "metadata": {
    "slideshow": {
     "slide_type": "slide"
    }
   },
   "source": [
    "<center><img src=\"images/7StrategiesForOptimizing.jpeg\" width=600px></center>"
   ]
  },
  {
   "cell_type": "markdown",
   "metadata": {
    "slideshow": {
     "slide_type": "subslide"
    }
   },
   "source": [
    "### Vectorización (ie. NumPy)\n",
    "  - Mover las operaciones repetidas en bucles a la capa compilada\n",
    "  - Código vectorizado puede ser sintácticamente una ventaja o un inconveniente\n",
    "  - Uso excesivo de memoria debido a la reserva intermedia\n",
    "  \n",
    "  <center><img src=\"images/numpy.png\" width=300px></center>"
   ]
  },
  {
   "cell_type": "markdown",
   "metadata": {
    "slideshow": {
     "slide_type": "subslide"
    }
   },
   "source": [
    "### Uso de estructuras de datos y librerías especializadas\n",
    "  - Normalmente la mejor solución para un problema particular\n",
    "  - Alguien tiene que escribirlas: ese alguien puedes acabar siendo tú\n",
    "  - Poco generalizable\n",
    "  \n",
    "    <center><img src=\"images/scipy_eco.png\" width=600px></center>"
   ]
  },
  {
   "cell_type": "markdown",
   "metadata": {
    "slideshow": {
     "slide_type": "subslide"
    }
   },
   "source": [
    "### Cython / Numba / Dask\n",
    "  - Requieren reestructurar/reescribir el código\n",
    "  - No se extienden a todo el lenguaje\n",
    "  - Difícil de depurar\n",
    " \n",
    " \n",
    "<center><div class=\"row\">\n",
    "  <div class=\"column\">\n",
    "    <img src=\"images/Cython-logo.svg.png\" width=200px>\n",
    "  </div>\n",
    "  <div class=\"column\">\n",
    "    <img src=\"images/numba.jpg\" width=200px>\n",
    "  </div>\n",
    "  <div class=\"column\">\n",
    "    <img src=\"images/dask_stacked.svg\" width=200px>\n",
    "  </div>\n",
    "</div><center>"
   ]
  },
  {
   "cell_type": "markdown",
   "metadata": {
    "slideshow": {
     "slide_type": "subslide"
    }
   },
   "source": [
    "### Migrar partes críticas a un lenguaje de bajo nivel \n",
    "\n",
    "A veces hasta el punto de protipar en un lenguaje y recodificar en otro\n",
    "\n",
    "<center><div class=\"row\">\n",
    "  <div class=\"column\">\n",
    "    <img src=\"images/200px-ISO_C++_Logo.svg.png\" width=200px>\n",
    "  </div>\n",
    "  <div class=\"column\">\n",
    "    <img src=\"images/Microsoft.VisualStudio.Services.Icons.Default\" width=200px>\n",
    "  </div><center>\n",
    "</div>"
   ]
  },
  {
   "cell_type": "markdown",
   "metadata": {
    "slideshow": {
     "slide_type": "subslide"
    }
   },
   "source": [
    "# N language problem\n",
    "\n",
    "\n",
    "<center><img src=\"images/rube-goldberg-machine.jpeg\" width=600px></center>"
   ]
  },
  {
   "cell_type": "markdown",
   "metadata": {
    "slideshow": {
     "slide_type": "subslide"
    }
   },
   "source": [
    "<center><img src=\"images/Julia_prog_language.svg.png\" width=500px></center>\n",
    "\n",
    "# busca ser una alternativa a esta situación\n",
    "\n",
    "### lo mejor de cada mundo en un solo lenguaje\n"
   ]
  },
  {
   "cell_type": "markdown",
   "metadata": {
    "slideshow": {
     "slide_type": "subslide"
    }
   },
   "source": [
    "<center><img src=\"images/Julia_prog_language.svg.png\" width=500px></center>\n",
    "\n",
    "# está escrito en Julia\n",
    "\n",
    "### lo que acerca a los usuarios a los desarrolladores\n"
   ]
  },
  {
   "cell_type": "markdown",
   "metadata": {
    "slideshow": {
     "slide_type": "subslide"
    }
   },
   "source": [
    "### Proyecto celeste\n",
    "\n",
    "<center><img src=\"images/celeste.png\" width=800px></center>\n",
    "\n",
    "> Third language in the petaflop club after C and FORTRAN (check the fact) used in CELESTE project "
   ]
  },
  {
   "cell_type": "markdown",
   "metadata": {
    "slideshow": {
     "slide_type": "slide"
    }
   },
   "source": [
    "## Instalando Julia"
   ]
  },
  {
   "cell_type": "markdown",
   "metadata": {
    "slideshow": {
     "slide_type": "subslide"
    }
   },
   "source": [
    "## https://juliacomputing.com/products/juliapro.html\n",
    "<br />\n",
    "<br />\n",
    "<br />\n",
    "<center><img src=\"images/julia-pro.png\" width=800px></center>"
   ]
  },
  {
   "cell_type": "markdown",
   "metadata": {
    "slideshow": {
     "slide_type": "subslide"
    }
   },
   "source": [
    "### Julia Pro\n",
    "\n",
    "- Editor: **Juno** (Atom)\n",
    "\n",
    "- **Registro de paquetes** de Julia Pro: subconjunto de paquetes del registro general con una capa adicional de madurez y testeo alojados en un servidor propio.\n",
    "\n",
    "    https://juliacomputing.com/products/juliapro.html#juliapackages (requiere registrarse)\n"
   ]
  },
  {
   "cell_type": "markdown",
   "metadata": {
    "slideshow": {
     "slide_type": "subslide"
    }
   },
   "source": [
    "## https://julialang.org/downloads/\n",
    "\n",
    "<br />\n",
    "<br />\n",
    "<br />\n",
    "\n",
    "<center><img src=\"images/julialang-download.png\" width=800px></center>"
   ]
  },
  {
   "cell_type": "markdown",
   "metadata": {
    "slideshow": {
     "slide_type": "subslide"
    }
   },
   "source": [
    "## https://anaconda.org/conda-forge/julia\n",
    "\n",
    "<br />\n",
    "<br />\n",
    "<br />\n",
    "\n",
    "<center><img src=\"images/julia-conda.png\" width=800px></center>"
   ]
  },
  {
   "cell_type": "markdown",
   "metadata": {
    "slideshow": {
     "slide_type": "subslide"
    }
   },
   "source": [
    "## https://www.juliabox.com/\n",
    "\n",
    "<br />\n",
    "<br />\n",
    "<br />\n",
    "\n",
    "<center><img src=\"images/julia-box.png\" width=800px></center>"
   ]
  },
  {
   "cell_type": "markdown",
   "metadata": {
    "slideshow": {
     "slide_type": "slide"
    }
   },
   "source": [
    "## Empezando con Julia\n",
    "\n",
    "Lo primero que uno encuentra es:\n",
    "\n",
    "- [Noteworthy Differences from other Languages](https://docs.julialang.org/en/v1/manual/noteworthy-differences/)\n",
    "    - [MATLAB](https://docs.julialang.org/en/v1/manual/noteworthy-differences/#Noteworthy-differences-from-MATLAB-1)\n",
    "    - [R](https://docs.julialang.org/en/v1/manual/noteworthy-differences/#Noteworthy-differences-from-R-1)\n",
    "    - [Python](https://docs.julialang.org/en/v1/manual/noteworthy-differences/#Noteworthy-differences-from-Python-1)\n",
    "    - [C/C++](https://docs.julialang.org/en/v1/manual/noteworthy-differences/#Noteworthy-differences-from-C/C-1)\n",
    "- [Performance tips](https://docs.julialang.org/en/v1/manual/performance-tips/#man-performance-tips-1)\n",
    "    > In the following sections, we briefly go through a few techniques that can help make your Julia code run as fast as possible.\n",
    "    \n",
    "- [FAQ](https://pkg.julialang.org/docs/julia/THl1k/1.1.1/manual/faq.html#Frequently-Asked-Questions-1)"
   ]
  },
  {
   "cell_type": "markdown",
   "metadata": {
    "slideshow": {
     "slide_type": "slide"
    }
   },
   "source": [
    "## Empezando a programar\n",
    "\n",
    "<br>\n",
    "<br>\n",
    "\n",
    "### Noteboook 1\n",
    "\n",
    "- Strings\n",
    "- Tipos numéricos\n",
    "- Arrays\n",
    "- Álgebra lineal\n",
    "- Tuplas\n",
    "- Diccionarios\n",
    "- Control de flujo\n"
   ]
  },
  {
   "cell_type": "markdown",
   "metadata": {
    "slideshow": {
     "slide_type": "slide"
    }
   },
   "source": [
    "## Funciones\n",
    "\n",
    "<br>\n",
    "<br>\n",
    "\n",
    "### Notebook2\n",
    "\n",
    "- Definición\n",
    "- Duck typing\n",
    "- Multiple dispatch\n",
    "- Documentación\n",
    "- Broadcasting\n",
    "- Mutating functions\n"
   ]
  },
  {
   "cell_type": "markdown",
   "metadata": {
    "slideshow": {
     "slide_type": "subslide"
    }
   },
   "source": [
    "<center><img src=\"images/multiple_dispatch.png\" width=800px></center>\n",
    "\n",
    "###### JuMP-dev 2019 | Stefan Karpinski | The Unreasonable Effectiveness of Multiple Dispatch"
   ]
  },
  {
   "cell_type": "markdown",
   "metadata": {
    "slideshow": {
     "slide_type": "subslide"
    }
   },
   "source": [
    "#### Multiple dispatch y compartir código\n",
    "\n",
    "**Podemos definir métodos en tipos después de que hayan sido definidos**\n",
    "\n",
    "- Compartiendo tipos --> (Herencia, composición...)\n",
    "  - Si queremos añadir nuevos métodos, basta con crearlos:\n",
    "    - No hace falta crearlos en la librería del tipo original. La librería no tiene por qué crecer y crecer\n",
    "    - No hace falta heredar bajo un nuevo nombre de clase. (Inversion of control problem)\n",
    "- Compartiendo algoritmos  (implementación genérica --> interfaces)\n",
    "\n",
    "<br />\n",
    "<br />\n",
    "\n",
    "###### JuMP-dev 2019 | Stefan Karpinski | The Unreasonable Effectiveness of Multiple Dispatch\n",
    "https://www.youtube.com/watch?v=HAEgGFqbVkA"
   ]
  },
  {
   "cell_type": "markdown",
   "metadata": {
    "slideshow": {
     "slide_type": "slide"
    }
   },
   "source": [
    "### ¿Por qué es Julia rápido?"
   ]
  },
  {
   "cell_type": "markdown",
   "metadata": {
    "slideshow": {
     "slide_type": "subslide"
    }
   },
   "source": [
    "### ~~¿Por qué es Julia rápido?~~"
   ]
  },
  {
   "cell_type": "markdown",
   "metadata": {
    "slideshow": {
     "slide_type": "-"
    }
   },
   "source": [
    "## ¿Por qué Julia puede ser rápido?"
   ]
  },
  {
   "cell_type": "markdown",
   "metadata": {
    "slideshow": {
     "slide_type": "subslide"
    }
   },
   "source": [
    "- Multiple dispatch -> tipado opcional\n",
    "- Inferencia de tipos -> generación de código especializado por tipo de los argumentos\n",
    "- Compilación Just-In-Time (JIT) implementada usando LLVM"
   ]
  },
  {
   "cell_type": "markdown",
   "metadata": {
    "slideshow": {
     "slide_type": "subslide"
    }
   },
   "source": [
    "## JIT \n",
    "\n",
    "- Compile ahead of time (AOT) — e.g. Fortran, C, C++\n",
    "- Compile just in time (often called JIT) — e.g. JavaScript, Julia\n",
    "- Interpret — e.g. Python, MATLAB, Perl, Ruby"
   ]
  },
  {
   "cell_type": "markdown",
   "metadata": {
    "slideshow": {
     "slide_type": "subslide"
    }
   },
   "source": [
    "<center><img src=\"images/compilation0.png\" width=800px></center>\n",
    "\n",
    "###### JuliaCon 2018 | Engineering Julia for Speed | Lionel Zoubritzky"
   ]
  },
  {
   "cell_type": "markdown",
   "metadata": {
    "slideshow": {
     "slide_type": "subslide"
    }
   },
   "source": [
    "<center><img src=\"images/compilation2.png\" width=800px></center>\n",
    "\n",
    "###### JuliaCon 2018 | Engineering Julia for Speed | Lionel Zoubritzky"
   ]
  },
  {
   "cell_type": "markdown",
   "metadata": {
    "slideshow": {
     "slide_type": "subslide"
    }
   },
   "source": [
    "<center><img src=\"images/compilation3.png\" width=800px></center>\n",
    "\n",
    "###### JuliaCon 2018 | Engineering Julia for Speed | Lionel Zoubritzky"
   ]
  },
  {
   "cell_type": "markdown",
   "metadata": {
    "slideshow": {
     "slide_type": "subslide"
    }
   },
   "source": [
    "###### JuliaCon 2018 | Engineering Julia for Speed | Lionel Zoubritzky\n",
    "<br />\n",
    "<br />\n",
    "\n",
    "https://www.youtube.com/watch?v=XWIZ_dCO6X8\n",
    "\n",
    "<br />\n",
    "<br />\n",
    "<br />\n",
    "\n",
    "###### JuliaCon 2014 | Introduction to Julia Internals | Jeff Bezanson \n",
    "\n",
    "<br />\n",
    "<br />\n",
    "\n",
    "https://www.youtube.com/watch?v=osdeT-tWjzk"
   ]
  },
  {
   "cell_type": "markdown",
   "metadata": {
    "slideshow": {
     "slide_type": "subslide"
    }
   },
   "source": [
    "- Los lenguajes compilados son rápidos porque optimizan el código para unas variables y un hardware.\n",
    "\n",
    "- Lenguajes como C o FORTRAN se compilan antes de la ejecución (AOT), en cambio Julia compila en tiempo de ejecución (JIT) por lo que parece un lenguaje interpretado como Python o R."
   ]
  },
  {
   "cell_type": "markdown",
   "metadata": {
    "slideshow": {
     "slide_type": "subslide"
    }
   },
   "source": [
    "## Type inference\n",
    "\n",
    "Como **el compilador sólo puede generar código máquina para tipos específicos** (enteros, reales...) la mayoría de los lenguajes compilados usan tipado estático.\n",
    "\n",
    "Sin embargo, en Julia no es obligatorio definir tipos. **Julia analiza el código y lo compila para los tipos que encuentra: \"type inference\"**. Si se llama al mismo código con un tipo diferente, se genera nuevo código máquina especializado para esa llamada."
   ]
  },
  {
   "cell_type": "markdown",
   "metadata": {
    "slideshow": {
     "slide_type": "subslide"
    }
   },
   "source": [
    "### Type stability\n",
    "\n",
    "El código de un método se optimiza en función de los tipos de las entradas. Para conseguir un buen rendimiento, conviene que: \n",
    "\n",
    ">el tipo de la salida sólo dependa del tipo de la entrada\n"
   ]
  },
  {
   "cell_type": "markdown",
   "metadata": {
    "slideshow": {
     "slide_type": "subslide"
    }
   },
   "source": [
    "##### Ejemplo "
   ]
  },
  {
   "cell_type": "code",
   "execution_count": null,
   "metadata": {
    "slideshow": {
     "slide_type": "-"
    }
   },
   "outputs": [],
   "source": [
    "# preserve\n",
    "sqrt(1)"
   ]
  },
  {
   "cell_type": "code",
   "execution_count": null,
   "metadata": {
    "slideshow": {
     "slide_type": "fragment"
    }
   },
   "outputs": [],
   "source": []
  },
  {
   "cell_type": "code",
   "execution_count": null,
   "metadata": {
    "slideshow": {
     "slide_type": "fragment"
    }
   },
   "outputs": [],
   "source": []
  },
  {
   "cell_type": "markdown",
   "metadata": {
    "slideshow": {
     "slide_type": "subslide"
    }
   },
   "source": [
    "##### Otro ejemplo "
   ]
  },
  {
   "cell_type": "code",
   "execution_count": null,
   "metadata": {
    "slideshow": {
     "slide_type": "-"
    }
   },
   "outputs": [],
   "source": [
    "# preserve\n",
    "pos(x) = x < 0 ? 0 : x"
   ]
  },
  {
   "cell_type": "code",
   "execution_count": null,
   "metadata": {
    "slideshow": {
     "slide_type": "-"
    }
   },
   "outputs": [],
   "source": [
    "# call"
   ]
  },
  {
   "cell_type": "markdown",
   "metadata": {
    "slideshow": {
     "slide_type": "-"
    }
   },
   "source": [
    "mucho mejor así:"
   ]
  },
  {
   "cell_type": "code",
   "execution_count": null,
   "metadata": {
    "slideshow": {
     "slide_type": "fragment"
    }
   },
   "outputs": [],
   "source": [
    "# rewrite"
   ]
  },
  {
   "cell_type": "code",
   "execution_count": null,
   "metadata": {
    "slideshow": {
     "slide_type": "-"
    }
   },
   "outputs": [],
   "source": []
  },
  {
   "cell_type": "markdown",
   "metadata": {
    "slideshow": {
     "slide_type": "subslide"
    }
   },
   "source": [
    "### Type stability\n",
    "\n",
    "Del mismo modo, la variables internas de la función afectan  a otras especializaciones del código internas:\n",
    "\n",
    ">el tipo de las variables internas no debe cambiar a lo largo de la ejecución del método\n"
   ]
  },
  {
   "cell_type": "code",
   "execution_count": null,
   "metadata": {
    "slideshow": {
     "slide_type": "subslide"
    }
   },
   "outputs": [],
   "source": [
    "# preserve\n",
    "function raiz(S, eps_=1e-5, nmax=10)\n",
    "    x_hat = S / 2\n",
    "    n = 1\n",
    "    diff = 10\n",
    "    \n",
    "    while diff > eps_ && n < nmax\n",
    "        temp = 0.5 * (x_hat + S/x_hat)\n",
    "        diff = abs(temp - x_hat)\n",
    "        x_hat = temp\n",
    "        n +=1\n",
    "    end\n",
    "    \n",
    "    return x_hat\n",
    "end"
   ]
  },
  {
   "cell_type": "code",
   "execution_count": null,
   "metadata": {
    "slideshow": {
     "slide_type": "subslide"
    }
   },
   "outputs": [],
   "source": [
    "# benchmark"
   ]
  },
  {
   "cell_type": "markdown",
   "metadata": {
    "slideshow": {
     "slide_type": "subslide"
    }
   },
   "source": [
    "Más consejos:\n",
    "\n",
    "- https://github.com/stevengj/Julia-EuroSciPy14/blob/master/Julia%40EuroSciPy.pdf"
   ]
  },
  {
   "cell_type": "markdown",
   "metadata": {
    "slideshow": {
     "slide_type": "slide"
    }
   },
   "source": [
    "## ¿Qué nos ofrece Julia? \n",
    "\n",
    "- Escritura y ejecución rápidas: comodidades de un lenguaje de scripting con rendimiento de un lenguaje compilado.\n",
    "- Buena interoperabilidad con otros lenguajes: [C/FORTRAN](https://docs.julialang.org/en/v1/manual/calling-c-and-fortran-code/), [Python](https://github.com/JuliaPy/PyCall.jl), [R](http://juliainterop.github.io/RCall.jl/latest/gettingstarted.html), [C++](https://github.com/JuliaInterop/Cxx.jl)\n",
    "- Pone el foco en el software científico / análisis de datos\n",
    "- Interfaz con el sistema operativo en la librería estándar\n",
    "- Threads reales (sin GIL)\n",
    "- Comunidad muy activa"
   ]
  },
  {
   "cell_type": "markdown",
   "metadata": {
    "slideshow": {
     "slide_type": "subslide"
    }
   },
   "source": [
    "## ¿Dónde puede mejorar? \n",
    "\n",
    "- Altos tiempos de compilación en ocasiones: [Time to first plot problem](https://discourse.julialang.org/t/roadmap-for-a-faster-time-to-first-plot/22956)\n",
    "- Se trata todavía de un lenguaje joven y algunas librerías no están maduras:\n",
    "  - Problemas en al instalación\n",
    "  - Documentación minimalista\n",
    "  - Algunas funcionalidades no disponibles todavía\n",
    "- Paradoja de la elección: la cantidad de paquetes es muy alta\n",
    "- El debugger llegó hace sólo unos meses\n",
    "- El multithreading todavía experimenta algunos problemas: https://discourse.julialang.org/t/compiler-work-priorities/17623\n",
    "- A la generación de ejecutables y librerías le queda camino por recorrer (https://github.com/JuliaLang/PackageCompiler.jl)"
   ]
  },
  {
   "cell_type": "markdown",
   "metadata": {
    "slideshow": {
     "slide_type": "subslide"
    }
   },
   "source": [
    "## Deberías probar Julia si...\n",
    "\n",
    "- Escribes tus propios algoritmos\n",
    "- Necesitas que tu código se ejecute muy rápido\n",
    "- Quieres prototipar y optimizar en el mismo lenguaje\n",
    "- Necesitas hacer muchas llamádas a código C / FORTRAN / C++ y el overhead te importa\n",
    "- Necesitas/quieres aprender a  usar metaprogramación/macros\n",
    "- Utilizas diferenciación automática en los problemas que resuelves\n",
    "- Quieres usar letras griegas y caracteres especiales en tus variables 😆\n",
    "- Te interesa el diseño de lenguajes de programación y quieres seguir/participar en las discusiones\n",
    "- Quieres estar dentro desde el principio\n",
    "\n",
    "<br />\n",
    "<br />\n",
    "\n",
    "###### John Pearson | Introduction to Julia for Pythonistas"
   ]
  },
  {
   "cell_type": "markdown",
   "metadata": {
    "slideshow": {
     "slide_type": "subslide"
    }
   },
   "source": [
    "## Quizá Julia no es para mí... (todavía)\n",
    "\n",
    "- Normalmente usas paquetes desarrollados por otras personas\n",
    "- No tienes alternativa para algunos paquetes que no están disponibles todavía\n",
    "- No tienes necesidad de optimizar tu código\n",
    "- Fundamentalmente construyes modelos pero no desarrollas tus propios algoritmos\n",
    "- La estabilidad a largo plazo de tu código es fundamental para ti\n",
    "- No quieres invertir tiempo en ponerte al día cada vez que las cosas cambian\n",
    "- No tienes conocimientos ni interés por los lenguajes compilados\n",
    "\n",
    "\n",
    "<br />\n",
    "<br />\n",
    "\n",
    "###### John Pearson | Introduction to Julia for Pythonistas"
   ]
  },
  {
   "cell_type": "markdown",
   "metadata": {
    "slideshow": {
     "slide_type": "subslide"
    }
   },
   "source": [
    "https://www.youtube.com/watch?v=Cj6bjqS5otM\n",
    "\n",
    "\n",
    "<br />\n",
    "<br />\n",
    "\n",
    "###### John Pearson | Introduction to Julia for Pythonistas"
   ]
  },
  {
   "cell_type": "markdown",
   "metadata": {
    "slideshow": {
     "slide_type": "subslide"
    }
   },
   "source": [
    "## ¿Qué ocurrirá en los próximos años?\n",
    "\n",
    "- El core permanecerá estable sin cambios disruptivos salvo en lo relativo al compilador:\n",
    "  - Multithreading\n",
    "  - Congelación de código\n",
    "- Se asentarán las librerías más importantes:\n",
    "  - Ganarán en estabilidad\n",
    "  - Mejoras en la documentación\n",
    "  - ¿Se unirán algunas?\n",
    "- Más y más usuarios de MATLAB se pasarán a Julia empezando por la universidades\n",
    "\n",
    "###### Disclaimer! Just a personal opinion"
   ]
  },
  {
   "cell_type": "markdown",
   "metadata": {
    "slideshow": {
     "slide_type": "subslide"
    }
   },
   "source": [
    "## ¿Qué ocurrirá en los próximos años?\n",
    "\n",
    "- Julia Computing jugará un papel fundamental en su implantación en entornos corporativos (lecciones aprendidas de Anaconda) \n",
    "- No está tan claro lo que pasará en el mundo Data Science con las mejoras que vengan en R y Python (Dask, Numba, xarray, ¿pandas?)\n",
    "- Evolución de otros lenguajes \"rivales\": Go, Rust, últimas evoluciones de C++...\n",
    "\n",
    "\n",
    "\n",
    "###### Disclaimer! Just a personal opinion"
   ]
  },
  {
   "cell_type": "markdown",
   "metadata": {
    "slideshow": {
     "slide_type": "slide"
    }
   },
   "source": [
    "## En definitiva...\n",
    "\n",
    "### ¡Esto no ha hecho más que empezar!\n",
    "\n",
    "<center><img src=\"images/Julia_prog_language.svg.png\" width=500px></center>\n",
    "\n",
    "##### Alex Sáez\n",
    "###### Julio 2019 - UAH"
   ]
  },
  {
   "cell_type": "code",
   "execution_count": 1,
   "metadata": {
    "slideshow": {
     "slide_type": "notes"
    }
   },
   "outputs": [
    {
     "data": {
      "text/html": [
       "<link href='http://fonts.googleapis.com/css?family=Source+Sans+Pro|Josefin+Sans:400,700,400italic|Ubuntu+Condensed' rel='stylesheet' type='text/css'>\n",
       "\n",
       "\n",
       "<style>\n",
       "\n",
       ".row {\n",
       "  display: flex;\n",
       "}\n",
       "\n",
       ".column {\n",
       "  flex: 33.33%;\n",
       "  padding: 5px;\n",
       "}\n",
       "\n",
       "#notebook_panel { /* main background */\n",
       "    background: #f7f7f7;\n",
       "}\n",
       "\n",
       "#notebook li { /* More space between bullet points */\n",
       "    margin-top:0.5em;\n",
       "}\n",
       "\n",
       "div.cell { /* set cell width */\n",
       "    width: 900px;\n",
       "}\n",
       "\n",
       "div #notebook { /* centre the content */\n",
       "    background: #fff; /* white background for content */\n",
       "    width: 1000px;\n",
       "    margin: auto;\n",
       "    padding-left: 0em;\n",
       "}\n",
       "\n",
       "/* Put a solid color box around each cell and its output, visually linking them*/\n",
       "div.cell.code_cell {\n",
       "    font-family: 'Source Sans Pro', sans-serif;\n",
       "    width: 900px;\n",
       "}\n",
       "\n",
       "div.text_cell_render{\n",
       "    font-family: 'Josefin Sans', serif;\n",
       "    font-size: 18pt;\n",
       "}\n",
       "\n",
       "\n",
       "/* Formatting for header cells */\n",
       ".text_cell_render h1, .text_cell_render h2, .text_cell_render h3,\n",
       ".text_cell_render h4, .text_cell_render h5 {\n",
       "    font-family: 'Ubuntu Condensed', sans-serif;\n",
       "}\n",
       "\n",
       ".text_cell_render h1 {    /*Use this for Title*/\n",
       "    font-weight: 500;\n",
       "    font-size: 38pt;\n",
       "    line-height: 100%;\n",
       "    color: #252525;\n",
       "    text-align: center;\n",
       "    margin-bottom: 0.1em;\n",
       "    margin-top: 0.3em;\n",
       "    display: block;\n",
       "}\n",
       "\n",
       ".text_cell_render h2 {    /*Use this for Subtitle*/\n",
       "    margin-top:16px;\n",
       "    font-size: 32pt;\n",
       "    font-weight: 500;\n",
       "    margin-bottom: 0.1em;\n",
       "    margin-top: 0.3em;\n",
       "    text-align: center;\n",
       "    font-style: regular;\n",
       "    color: #4063D8;\n",
       "}\t\n",
       "\n",
       ".text_cell_render h3 {   /*Date*/ \n",
       "    font-size: 26pt;\n",
       "    font-weight: 200;\n",
       "    text-align: center;\n",
       "    margin-bottom: 0.1em;\n",
       "    margin-top: 0.3em;\n",
       "    font-style: regular;\n",
       "    color:  #9558B2;\n",
       "}\n",
       "\n",
       ".text_cell_render h4 {    /*Sections*/ \n",
       "    font-size: 28pt;\n",
       "    font-weight: 200;\n",
       "    text-align: left;\n",
       "    margin-bottom: 0.1em;\n",
       "    margin-top: 0.3em;\n",
       "    font-style: regular;\n",
       "    color:  #CB3C33;\n",
       "}\n",
       "\n",
       ".text_cell_render h5 {    /*Subsections*/\n",
       "    font-size: 20pt;\n",
       "    font-weight: 300;\n",
       "    font-style: italic;\n",
       "    margin-bottom: .1em;\n",
       "    margin-top: 0.8em;\n",
       "    display: block;\n",
       "    color:  #60AD51;\n",
       "}\n",
       "\n",
       ".text_cell_render h6 {    /*Author*/\n",
       "    font-family: 'Ubuntu Condensed', sans-serif;\n",
       "    font-weight: 100;\n",
       "    font-size: 17pt;\n",
       "    line-height: 100%;\n",
       "    color: #CB3C33;\n",
       "    text-align: right;\n",
       "    margin-bottom: 1px;\n",
       "    margin-top: 3px;\n",
       "}\n",
       "\n",
       ".CodeMirror{\n",
       "        font-family: 'Duru Sans', sans-serif;\n",
       "        font-size: 100%;\n",
       "}\n",
       "\n",
       "</style>\n",
       "<script>\n",
       "    MathJax.Hub.Config({\n",
       "                        TeX: {\n",
       "                           extensions: [\"AMSmath.js\"],\n",
       "                           equationNumbers: { autoNumber: \"AMS\", useLabelIds: true}\n",
       "                           },\n",
       "                tex2jax: {\n",
       "                    inlineMath: [ ['$','$'], [\"\\\\(\",\"\\\\)\"] ],\n",
       "                    displayMath: [ ['$$','$$'], [\"\\\\[\",\"\\\\]\"] ]\n",
       "                },\n",
       "                displayAlign: 'center', // Change this to 'center' to center equations.\n",
       "                \"HTML-CSS\": {\n",
       "                    styles: {'.MathJax_Display': {\"margin\": 4}}\n",
       "                }\n",
       "        });\n",
       "</script>\n"
      ],
      "text/plain": [
       "PyObject <IPython.core.display.HTML object>"
      ]
     },
     "execution_count": 1,
     "metadata": {},
     "output_type": "execute_result"
    },
    {
     "name": "stderr",
     "output_type": "stream",
     "text": [
      "┌ Warning: `getindex(o::PyObject, s::AbstractString)` is deprecated in favor of dot overloading (`getproperty`) so elements should now be accessed as e.g. `o.\"s\"` instead of `o[\"s\"]`.\n",
      "│   caller = show(::IOContext{Base.GenericIOBuffer{Array{UInt8,1}}}, ::MIME{Symbol(\"text/html\")}, ::PyObject) at PyCall.jl:895\n",
      "└ @ PyCall /home/asaez/.julia/packages/PyCall/ttONZ/src/PyCall.jl:895\n"
     ]
    }
   ],
   "source": [
    "using PyCall\n",
    "display_ = pyimport(\"IPython.core.display\")\n",
    "css_file = \"./style/style-slides.css\"\n",
    "display_.HTML(pybuiltin(\"open\")(css_file).read())"
   ]
  }
 ],
 "metadata": {
  "@webio": {
   "lastCommId": null,
   "lastKernelId": null
  },
  "celltoolbar": "Slideshow",
  "kernelspec": {
   "display_name": "Julia 1.1.1",
   "language": "julia",
   "name": "julia-1.1"
  },
  "language_info": {
   "file_extension": ".jl",
   "mimetype": "application/julia",
   "name": "julia",
   "version": "1.1.1"
  }
 },
 "nbformat": 4,
 "nbformat_minor": 2
}
